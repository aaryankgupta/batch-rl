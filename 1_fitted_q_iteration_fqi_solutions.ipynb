{
  "cells": [
    {
      "cell_type": "markdown",
      "metadata": {
        "id": "view-in-github",
        "colab_type": "text"
      },
      "source": [
        "<a href=\"https://colab.research.google.com/github/aaryankgupta/batch-rl/blob/master/1_fitted_q_iteration_fqi_solutions.ipynb\" target=\"_parent\"><img src=\"https://colab.research.google.com/assets/colab-badge.svg\" alt=\"Open In Colab\"/></a>"
      ]
    },
    {
      "cell_type": "markdown",
      "id": "c09ada11-d3a6-4837-b4d0-9657106a54b5",
      "metadata": {
        "id": "c09ada11-d3a6-4837-b4d0-9657106a54b5"
      },
      "source": [
        "# RLSS2023 - DQN Tutorial: Fitted Q Iteration (FQI)\n",
        "\n",
        "Website: https://rlsummerschool.com/\n",
        "\n",
        "Github repository: https://github.com/araffin/rlss23-dqn-tutorial\n",
        "\n",
        "Gymnasium documentation: https://gymnasium.farama.org/\n",
        "\n",
        "## Introduction\n",
        "\n",
        "In this notebook, you will implement the Fitted Q Iteration( (FQI) algorithm to solve the [CartPole](https://gymnasium.farama.org/environments/classic_control/cart_pole/) problem.\n",
        "\n",
        "This notebooks will first cover the basics for using the Gymnasium library: how to instantiate an environment, step into it and collect training data from the FQI algorithm.\n",
        "\n",
        "You will then learn how to implement step-by-step the FQI algorithm which is the predecessor of the [Deep Q-Network (DQN)](https://stable-baselines3.readthedocs.io/en/master/modules/dqn.html) algorithm."
      ]
    },
    {
      "cell_type": "code",
      "execution_count": 2,
      "id": "7fe1a9aa-5735-4614-9a76-031656397899",
      "metadata": {
        "id": "7fe1a9aa-5735-4614-9a76-031656397899"
      },
      "outputs": [],
      "source": [
        "# for autoformatting\n",
        "# %load_ext jupyter_black"
      ]
    },
    {
      "cell_type": "markdown",
      "id": "8188798b-daf5-43a7-91ec-a7a922bc2034",
      "metadata": {
        "id": "8188798b-daf5-43a7-91ec-a7a922bc2034"
      },
      "source": [
        "## Install Dependencies"
      ]
    },
    {
      "cell_type": "code",
      "execution_count": 3,
      "id": "0b55494c-fff2-4459-87e1-e7399afd56d5",
      "metadata": {
        "colab": {
          "base_uri": "https://localhost:8080/"
        },
        "id": "0b55494c-fff2-4459-87e1-e7399afd56d5",
        "outputId": "0d818979-f35d-4408-f5ac-973a750bdbed"
      },
      "outputs": [
        {
          "output_type": "stream",
          "name": "stdout",
          "text": [
            "Collecting git+https://github.com/araffin/rlss23-dqn-tutorial/\n",
            "  Cloning https://github.com/araffin/rlss23-dqn-tutorial/ to /tmp/pip-req-build-5vkfewzb\n",
            "  Running command git clone --filter=blob:none --quiet https://github.com/araffin/rlss23-dqn-tutorial/ /tmp/pip-req-build-5vkfewzb\n",
            "  Resolved https://github.com/araffin/rlss23-dqn-tutorial/ to commit 7a678727c31cd1e2b9529881a5e9c2d82602a77d\n",
            "  Installing build dependencies ... \u001b[?25l\u001b[?25hdone\n",
            "  Getting requirements to build wheel ... \u001b[?25l\u001b[?25hdone\n",
            "  Preparing metadata (pyproject.toml) ... \u001b[?25l\u001b[?25hdone\n",
            "Requirement already satisfied: numpy in /usr/local/lib/python3.11/dist-packages (from dqn_tutorial==0.1.dev58+g7a67872) (1.26.4)\n",
            "Collecting gymnasium<1.1.0,>=0.29.1 (from gymnasium[classic-control,other]<1.1.0,>=0.29.1->dqn_tutorial==0.1.dev58+g7a67872)\n",
            "  Downloading gymnasium-1.0.0-py3-none-any.whl.metadata (9.5 kB)\n",
            "Requirement already satisfied: scikit-learn in /usr/local/lib/python3.11/dist-packages (from dqn_tutorial==0.1.dev58+g7a67872) (1.6.1)\n",
            "Requirement already satisfied: torch>=2.4.0 in /usr/local/lib/python3.11/dist-packages (from dqn_tutorial==0.1.dev58+g7a67872) (2.5.1+cu124)\n",
            "Requirement already satisfied: cloudpickle>=1.2.0 in /usr/local/lib/python3.11/dist-packages (from gymnasium<1.1.0,>=0.29.1->gymnasium[classic-control,other]<1.1.0,>=0.29.1->dqn_tutorial==0.1.dev58+g7a67872) (3.1.1)\n",
            "Requirement already satisfied: typing-extensions>=4.3.0 in /usr/local/lib/python3.11/dist-packages (from gymnasium<1.1.0,>=0.29.1->gymnasium[classic-control,other]<1.1.0,>=0.29.1->dqn_tutorial==0.1.dev58+g7a67872) (4.12.2)\n",
            "Requirement already satisfied: farama-notifications>=0.0.1 in /usr/local/lib/python3.11/dist-packages (from gymnasium<1.1.0,>=0.29.1->gymnasium[classic-control,other]<1.1.0,>=0.29.1->dqn_tutorial==0.1.dev58+g7a67872) (0.0.4)\n",
            "Requirement already satisfied: pygame>=2.1.3 in /usr/local/lib/python3.11/dist-packages (from gymnasium[classic-control,other]<1.1.0,>=0.29.1->dqn_tutorial==0.1.dev58+g7a67872) (2.6.1)\n",
            "Requirement already satisfied: moviepy>=1.0.0 in /usr/local/lib/python3.11/dist-packages (from gymnasium[classic-control,other]<1.1.0,>=0.29.1->dqn_tutorial==0.1.dev58+g7a67872) (1.0.3)\n",
            "Requirement already satisfied: matplotlib>=3.0 in /usr/local/lib/python3.11/dist-packages (from gymnasium[classic-control,other]<1.1.0,>=0.29.1->dqn_tutorial==0.1.dev58+g7a67872) (3.10.0)\n",
            "Requirement already satisfied: opencv-python>=3.0 in /usr/local/lib/python3.11/dist-packages (from gymnasium[classic-control,other]<1.1.0,>=0.29.1->dqn_tutorial==0.1.dev58+g7a67872) (4.11.0.86)\n",
            "Requirement already satisfied: filelock in /usr/local/lib/python3.11/dist-packages (from torch>=2.4.0->dqn_tutorial==0.1.dev58+g7a67872) (3.17.0)\n",
            "Requirement already satisfied: networkx in /usr/local/lib/python3.11/dist-packages (from torch>=2.4.0->dqn_tutorial==0.1.dev58+g7a67872) (3.4.2)\n",
            "Requirement already satisfied: jinja2 in /usr/local/lib/python3.11/dist-packages (from torch>=2.4.0->dqn_tutorial==0.1.dev58+g7a67872) (3.1.6)\n",
            "Requirement already satisfied: fsspec in /usr/local/lib/python3.11/dist-packages (from torch>=2.4.0->dqn_tutorial==0.1.dev58+g7a67872) (2024.10.0)\n",
            "Collecting nvidia-cuda-nvrtc-cu12==12.4.127 (from torch>=2.4.0->dqn_tutorial==0.1.dev58+g7a67872)\n",
            "  Downloading nvidia_cuda_nvrtc_cu12-12.4.127-py3-none-manylinux2014_x86_64.whl.metadata (1.5 kB)\n",
            "Collecting nvidia-cuda-runtime-cu12==12.4.127 (from torch>=2.4.0->dqn_tutorial==0.1.dev58+g7a67872)\n",
            "  Downloading nvidia_cuda_runtime_cu12-12.4.127-py3-none-manylinux2014_x86_64.whl.metadata (1.5 kB)\n",
            "Collecting nvidia-cuda-cupti-cu12==12.4.127 (from torch>=2.4.0->dqn_tutorial==0.1.dev58+g7a67872)\n",
            "  Downloading nvidia_cuda_cupti_cu12-12.4.127-py3-none-manylinux2014_x86_64.whl.metadata (1.6 kB)\n",
            "Collecting nvidia-cudnn-cu12==9.1.0.70 (from torch>=2.4.0->dqn_tutorial==0.1.dev58+g7a67872)\n",
            "  Downloading nvidia_cudnn_cu12-9.1.0.70-py3-none-manylinux2014_x86_64.whl.metadata (1.6 kB)\n",
            "Collecting nvidia-cublas-cu12==12.4.5.8 (from torch>=2.4.0->dqn_tutorial==0.1.dev58+g7a67872)\n",
            "  Downloading nvidia_cublas_cu12-12.4.5.8-py3-none-manylinux2014_x86_64.whl.metadata (1.5 kB)\n",
            "Collecting nvidia-cufft-cu12==11.2.1.3 (from torch>=2.4.0->dqn_tutorial==0.1.dev58+g7a67872)\n",
            "  Downloading nvidia_cufft_cu12-11.2.1.3-py3-none-manylinux2014_x86_64.whl.metadata (1.5 kB)\n",
            "Collecting nvidia-curand-cu12==10.3.5.147 (from torch>=2.4.0->dqn_tutorial==0.1.dev58+g7a67872)\n",
            "  Downloading nvidia_curand_cu12-10.3.5.147-py3-none-manylinux2014_x86_64.whl.metadata (1.5 kB)\n",
            "Collecting nvidia-cusolver-cu12==11.6.1.9 (from torch>=2.4.0->dqn_tutorial==0.1.dev58+g7a67872)\n",
            "  Downloading nvidia_cusolver_cu12-11.6.1.9-py3-none-manylinux2014_x86_64.whl.metadata (1.6 kB)\n",
            "Collecting nvidia-cusparse-cu12==12.3.1.170 (from torch>=2.4.0->dqn_tutorial==0.1.dev58+g7a67872)\n",
            "  Downloading nvidia_cusparse_cu12-12.3.1.170-py3-none-manylinux2014_x86_64.whl.metadata (1.6 kB)\n",
            "Requirement already satisfied: nvidia-nccl-cu12==2.21.5 in /usr/local/lib/python3.11/dist-packages (from torch>=2.4.0->dqn_tutorial==0.1.dev58+g7a67872) (2.21.5)\n",
            "Requirement already satisfied: nvidia-nvtx-cu12==12.4.127 in /usr/local/lib/python3.11/dist-packages (from torch>=2.4.0->dqn_tutorial==0.1.dev58+g7a67872) (12.4.127)\n",
            "Collecting nvidia-nvjitlink-cu12==12.4.127 (from torch>=2.4.0->dqn_tutorial==0.1.dev58+g7a67872)\n",
            "  Downloading nvidia_nvjitlink_cu12-12.4.127-py3-none-manylinux2014_x86_64.whl.metadata (1.5 kB)\n",
            "Requirement already satisfied: triton==3.1.0 in /usr/local/lib/python3.11/dist-packages (from torch>=2.4.0->dqn_tutorial==0.1.dev58+g7a67872) (3.1.0)\n",
            "Requirement already satisfied: sympy==1.13.1 in /usr/local/lib/python3.11/dist-packages (from torch>=2.4.0->dqn_tutorial==0.1.dev58+g7a67872) (1.13.1)\n",
            "Requirement already satisfied: mpmath<1.4,>=1.1.0 in /usr/local/lib/python3.11/dist-packages (from sympy==1.13.1->torch>=2.4.0->dqn_tutorial==0.1.dev58+g7a67872) (1.3.0)\n",
            "Requirement already satisfied: scipy>=1.6.0 in /usr/local/lib/python3.11/dist-packages (from scikit-learn->dqn_tutorial==0.1.dev58+g7a67872) (1.14.1)\n",
            "Requirement already satisfied: joblib>=1.2.0 in /usr/local/lib/python3.11/dist-packages (from scikit-learn->dqn_tutorial==0.1.dev58+g7a67872) (1.4.2)\n",
            "Requirement already satisfied: threadpoolctl>=3.1.0 in /usr/local/lib/python3.11/dist-packages (from scikit-learn->dqn_tutorial==0.1.dev58+g7a67872) (3.5.0)\n",
            "Requirement already satisfied: contourpy>=1.0.1 in /usr/local/lib/python3.11/dist-packages (from matplotlib>=3.0->gymnasium[classic-control,other]<1.1.0,>=0.29.1->dqn_tutorial==0.1.dev58+g7a67872) (1.3.1)\n",
            "Requirement already satisfied: cycler>=0.10 in /usr/local/lib/python3.11/dist-packages (from matplotlib>=3.0->gymnasium[classic-control,other]<1.1.0,>=0.29.1->dqn_tutorial==0.1.dev58+g7a67872) (0.12.1)\n",
            "Requirement already satisfied: fonttools>=4.22.0 in /usr/local/lib/python3.11/dist-packages (from matplotlib>=3.0->gymnasium[classic-control,other]<1.1.0,>=0.29.1->dqn_tutorial==0.1.dev58+g7a67872) (4.56.0)\n",
            "Requirement already satisfied: kiwisolver>=1.3.1 in /usr/local/lib/python3.11/dist-packages (from matplotlib>=3.0->gymnasium[classic-control,other]<1.1.0,>=0.29.1->dqn_tutorial==0.1.dev58+g7a67872) (1.4.8)\n",
            "Requirement already satisfied: packaging>=20.0 in /usr/local/lib/python3.11/dist-packages (from matplotlib>=3.0->gymnasium[classic-control,other]<1.1.0,>=0.29.1->dqn_tutorial==0.1.dev58+g7a67872) (24.2)\n",
            "Requirement already satisfied: pillow>=8 in /usr/local/lib/python3.11/dist-packages (from matplotlib>=3.0->gymnasium[classic-control,other]<1.1.0,>=0.29.1->dqn_tutorial==0.1.dev58+g7a67872) (11.1.0)\n",
            "Requirement already satisfied: pyparsing>=2.3.1 in /usr/local/lib/python3.11/dist-packages (from matplotlib>=3.0->gymnasium[classic-control,other]<1.1.0,>=0.29.1->dqn_tutorial==0.1.dev58+g7a67872) (3.2.1)\n",
            "Requirement already satisfied: python-dateutil>=2.7 in /usr/local/lib/python3.11/dist-packages (from matplotlib>=3.0->gymnasium[classic-control,other]<1.1.0,>=0.29.1->dqn_tutorial==0.1.dev58+g7a67872) (2.8.2)\n",
            "Requirement already satisfied: decorator<5.0,>=4.0.2 in /usr/local/lib/python3.11/dist-packages (from moviepy>=1.0.0->gymnasium[classic-control,other]<1.1.0,>=0.29.1->dqn_tutorial==0.1.dev58+g7a67872) (4.4.2)\n",
            "Requirement already satisfied: imageio<3.0,>=2.5 in /usr/local/lib/python3.11/dist-packages (from moviepy>=1.0.0->gymnasium[classic-control,other]<1.1.0,>=0.29.1->dqn_tutorial==0.1.dev58+g7a67872) (2.37.0)\n",
            "Requirement already satisfied: imageio_ffmpeg>=0.2.0 in /usr/local/lib/python3.11/dist-packages (from moviepy>=1.0.0->gymnasium[classic-control,other]<1.1.0,>=0.29.1->dqn_tutorial==0.1.dev58+g7a67872) (0.6.0)\n",
            "Requirement already satisfied: tqdm<5.0,>=4.11.2 in /usr/local/lib/python3.11/dist-packages (from moviepy>=1.0.0->gymnasium[classic-control,other]<1.1.0,>=0.29.1->dqn_tutorial==0.1.dev58+g7a67872) (4.67.1)\n",
            "Requirement already satisfied: requests<3.0,>=2.8.1 in /usr/local/lib/python3.11/dist-packages (from moviepy>=1.0.0->gymnasium[classic-control,other]<1.1.0,>=0.29.1->dqn_tutorial==0.1.dev58+g7a67872) (2.32.3)\n",
            "Requirement already satisfied: proglog<=1.0.0 in /usr/local/lib/python3.11/dist-packages (from moviepy>=1.0.0->gymnasium[classic-control,other]<1.1.0,>=0.29.1->dqn_tutorial==0.1.dev58+g7a67872) (0.1.10)\n",
            "Requirement already satisfied: MarkupSafe>=2.0 in /usr/local/lib/python3.11/dist-packages (from jinja2->torch>=2.4.0->dqn_tutorial==0.1.dev58+g7a67872) (3.0.2)\n",
            "Requirement already satisfied: six>=1.5 in /usr/local/lib/python3.11/dist-packages (from python-dateutil>=2.7->matplotlib>=3.0->gymnasium[classic-control,other]<1.1.0,>=0.29.1->dqn_tutorial==0.1.dev58+g7a67872) (1.17.0)\n",
            "Requirement already satisfied: charset-normalizer<4,>=2 in /usr/local/lib/python3.11/dist-packages (from requests<3.0,>=2.8.1->moviepy>=1.0.0->gymnasium[classic-control,other]<1.1.0,>=0.29.1->dqn_tutorial==0.1.dev58+g7a67872) (3.4.1)\n",
            "Requirement already satisfied: idna<4,>=2.5 in /usr/local/lib/python3.11/dist-packages (from requests<3.0,>=2.8.1->moviepy>=1.0.0->gymnasium[classic-control,other]<1.1.0,>=0.29.1->dqn_tutorial==0.1.dev58+g7a67872) (3.10)\n",
            "Requirement already satisfied: urllib3<3,>=1.21.1 in /usr/local/lib/python3.11/dist-packages (from requests<3.0,>=2.8.1->moviepy>=1.0.0->gymnasium[classic-control,other]<1.1.0,>=0.29.1->dqn_tutorial==0.1.dev58+g7a67872) (2.3.0)\n",
            "Requirement already satisfied: certifi>=2017.4.17 in /usr/local/lib/python3.11/dist-packages (from requests<3.0,>=2.8.1->moviepy>=1.0.0->gymnasium[classic-control,other]<1.1.0,>=0.29.1->dqn_tutorial==0.1.dev58+g7a67872) (2025.1.31)\n",
            "Downloading gymnasium-1.0.0-py3-none-any.whl (958 kB)\n",
            "\u001b[2K   \u001b[90m━━━━━━━━━━━━━━━━━━━━━━━━━━━━━━━━━━━━━━━━\u001b[0m \u001b[32m958.1/958.1 kB\u001b[0m \u001b[31m11.5 MB/s\u001b[0m eta \u001b[36m0:00:00\u001b[0m\n",
            "\u001b[?25hDownloading nvidia_cublas_cu12-12.4.5.8-py3-none-manylinux2014_x86_64.whl (363.4 MB)\n",
            "\u001b[2K   \u001b[90m━━━━━━━━━━━━━━━━━━━━━━━━━━━━━━━━━━━━━━━━\u001b[0m \u001b[32m363.4/363.4 MB\u001b[0m \u001b[31m4.1 MB/s\u001b[0m eta \u001b[36m0:00:00\u001b[0m\n",
            "\u001b[?25hDownloading nvidia_cuda_cupti_cu12-12.4.127-py3-none-manylinux2014_x86_64.whl (13.8 MB)\n",
            "\u001b[2K   \u001b[90m━━━━━━━━━━━━━━━━━━━━━━━━━━━━━━━━━━━━━━━━\u001b[0m \u001b[32m13.8/13.8 MB\u001b[0m \u001b[31m88.5 MB/s\u001b[0m eta \u001b[36m0:00:00\u001b[0m\n",
            "\u001b[?25hDownloading nvidia_cuda_nvrtc_cu12-12.4.127-py3-none-manylinux2014_x86_64.whl (24.6 MB)\n",
            "\u001b[2K   \u001b[90m━━━━━━━━━━━━━━━━━━━━━━━━━━━━━━━━━━━━━━━━\u001b[0m \u001b[32m24.6/24.6 MB\u001b[0m \u001b[31m28.7 MB/s\u001b[0m eta \u001b[36m0:00:00\u001b[0m\n",
            "\u001b[?25hDownloading nvidia_cuda_runtime_cu12-12.4.127-py3-none-manylinux2014_x86_64.whl (883 kB)\n",
            "\u001b[2K   \u001b[90m━━━━━━━━━━━━━━━━━━━━━━━━━━━━━━━━━━━━━━━━\u001b[0m \u001b[32m883.7/883.7 kB\u001b[0m \u001b[31m35.0 MB/s\u001b[0m eta \u001b[36m0:00:00\u001b[0m\n",
            "\u001b[?25hDownloading nvidia_cudnn_cu12-9.1.0.70-py3-none-manylinux2014_x86_64.whl (664.8 MB)\n",
            "\u001b[2K   \u001b[90m━━━━━━━━━━━━━━━━━━━━━━━━━━━━━━━━━━━━━━━━\u001b[0m \u001b[32m664.8/664.8 MB\u001b[0m \u001b[31m2.1 MB/s\u001b[0m eta \u001b[36m0:00:00\u001b[0m\n",
            "\u001b[?25hDownloading nvidia_cufft_cu12-11.2.1.3-py3-none-manylinux2014_x86_64.whl (211.5 MB)\n",
            "\u001b[2K   \u001b[90m━━━━━━━━━━━━━━━━━━━━━━━━━━━━━━━━━━━━━━━━\u001b[0m \u001b[32m211.5/211.5 MB\u001b[0m \u001b[31m5.7 MB/s\u001b[0m eta \u001b[36m0:00:00\u001b[0m\n",
            "\u001b[?25hDownloading nvidia_curand_cu12-10.3.5.147-py3-none-manylinux2014_x86_64.whl (56.3 MB)\n",
            "\u001b[2K   \u001b[90m━━━━━━━━━━━━━━━━━━━━━━━━━━━━━━━━━━━━━━━━\u001b[0m \u001b[32m56.3/56.3 MB\u001b[0m \u001b[31m13.2 MB/s\u001b[0m eta \u001b[36m0:00:00\u001b[0m\n",
            "\u001b[?25hDownloading nvidia_cusolver_cu12-11.6.1.9-py3-none-manylinux2014_x86_64.whl (127.9 MB)\n",
            "\u001b[2K   \u001b[90m━━━━━━━━━━━━━━━━━━━━━━━━━━━━━━━━━━━━━━━━\u001b[0m \u001b[32m127.9/127.9 MB\u001b[0m \u001b[31m7.3 MB/s\u001b[0m eta \u001b[36m0:00:00\u001b[0m\n",
            "\u001b[?25hDownloading nvidia_cusparse_cu12-12.3.1.170-py3-none-manylinux2014_x86_64.whl (207.5 MB)\n",
            "\u001b[2K   \u001b[90m━━━━━━━━━━━━━━━━━━━━━━━━━━━━━━━━━━━━━━━━\u001b[0m \u001b[32m207.5/207.5 MB\u001b[0m \u001b[31m6.4 MB/s\u001b[0m eta \u001b[36m0:00:00\u001b[0m\n",
            "\u001b[?25hDownloading nvidia_nvjitlink_cu12-12.4.127-py3-none-manylinux2014_x86_64.whl (21.1 MB)\n",
            "\u001b[2K   \u001b[90m━━━━━━━━━━━━━━━━━━━━━━━━━━━━━━━━━━━━━━━━\u001b[0m \u001b[32m21.1/21.1 MB\u001b[0m \u001b[31m81.4 MB/s\u001b[0m eta \u001b[36m0:00:00\u001b[0m\n",
            "\u001b[?25hBuilding wheels for collected packages: dqn_tutorial\n",
            "  Building wheel for dqn_tutorial (pyproject.toml) ... \u001b[?25l\u001b[?25hdone\n",
            "  Created wheel for dqn_tutorial: filename=dqn_tutorial-0.1.dev58+g7a67872-py3-none-any.whl size=19772 sha256=7374bbb74572c1d8ae13a964626cc8409fb17d4bb4333420c235d28916025386\n",
            "  Stored in directory: /tmp/pip-ephem-wheel-cache-s6z__js3/wheels/79/33/c5/40cb4240288871745525fb986a090a26f989992c59b28a081d\n",
            "Successfully built dqn_tutorial\n",
            "Installing collected packages: nvidia-nvjitlink-cu12, nvidia-curand-cu12, nvidia-cufft-cu12, nvidia-cuda-runtime-cu12, nvidia-cuda-nvrtc-cu12, nvidia-cuda-cupti-cu12, nvidia-cublas-cu12, gymnasium, nvidia-cusparse-cu12, nvidia-cudnn-cu12, nvidia-cusolver-cu12, dqn_tutorial\n",
            "  Attempting uninstall: nvidia-nvjitlink-cu12\n",
            "    Found existing installation: nvidia-nvjitlink-cu12 12.5.82\n",
            "    Uninstalling nvidia-nvjitlink-cu12-12.5.82:\n",
            "      Successfully uninstalled nvidia-nvjitlink-cu12-12.5.82\n",
            "  Attempting uninstall: nvidia-curand-cu12\n",
            "    Found existing installation: nvidia-curand-cu12 10.3.6.82\n",
            "    Uninstalling nvidia-curand-cu12-10.3.6.82:\n",
            "      Successfully uninstalled nvidia-curand-cu12-10.3.6.82\n",
            "  Attempting uninstall: nvidia-cufft-cu12\n",
            "    Found existing installation: nvidia-cufft-cu12 11.2.3.61\n",
            "    Uninstalling nvidia-cufft-cu12-11.2.3.61:\n",
            "      Successfully uninstalled nvidia-cufft-cu12-11.2.3.61\n",
            "  Attempting uninstall: nvidia-cuda-runtime-cu12\n",
            "    Found existing installation: nvidia-cuda-runtime-cu12 12.5.82\n",
            "    Uninstalling nvidia-cuda-runtime-cu12-12.5.82:\n",
            "      Successfully uninstalled nvidia-cuda-runtime-cu12-12.5.82\n",
            "  Attempting uninstall: nvidia-cuda-nvrtc-cu12\n",
            "    Found existing installation: nvidia-cuda-nvrtc-cu12 12.5.82\n",
            "    Uninstalling nvidia-cuda-nvrtc-cu12-12.5.82:\n",
            "      Successfully uninstalled nvidia-cuda-nvrtc-cu12-12.5.82\n",
            "  Attempting uninstall: nvidia-cuda-cupti-cu12\n",
            "    Found existing installation: nvidia-cuda-cupti-cu12 12.5.82\n",
            "    Uninstalling nvidia-cuda-cupti-cu12-12.5.82:\n",
            "      Successfully uninstalled nvidia-cuda-cupti-cu12-12.5.82\n",
            "  Attempting uninstall: nvidia-cublas-cu12\n",
            "    Found existing installation: nvidia-cublas-cu12 12.5.3.2\n",
            "    Uninstalling nvidia-cublas-cu12-12.5.3.2:\n",
            "      Successfully uninstalled nvidia-cublas-cu12-12.5.3.2\n",
            "  Attempting uninstall: gymnasium\n",
            "    Found existing installation: gymnasium 1.1.1\n",
            "    Uninstalling gymnasium-1.1.1:\n",
            "      Successfully uninstalled gymnasium-1.1.1\n",
            "  Attempting uninstall: nvidia-cusparse-cu12\n",
            "    Found existing installation: nvidia-cusparse-cu12 12.5.1.3\n",
            "    Uninstalling nvidia-cusparse-cu12-12.5.1.3:\n",
            "      Successfully uninstalled nvidia-cusparse-cu12-12.5.1.3\n",
            "  Attempting uninstall: nvidia-cudnn-cu12\n",
            "    Found existing installation: nvidia-cudnn-cu12 9.3.0.75\n",
            "    Uninstalling nvidia-cudnn-cu12-9.3.0.75:\n",
            "      Successfully uninstalled nvidia-cudnn-cu12-9.3.0.75\n",
            "  Attempting uninstall: nvidia-cusolver-cu12\n",
            "    Found existing installation: nvidia-cusolver-cu12 11.6.3.83\n",
            "    Uninstalling nvidia-cusolver-cu12-11.6.3.83:\n",
            "      Successfully uninstalled nvidia-cusolver-cu12-11.6.3.83\n",
            "Successfully installed dqn_tutorial-0.1.dev58+g7a67872 gymnasium-1.0.0 nvidia-cublas-cu12-12.4.5.8 nvidia-cuda-cupti-cu12-12.4.127 nvidia-cuda-nvrtc-cu12-12.4.127 nvidia-cuda-runtime-cu12-12.4.127 nvidia-cudnn-cu12-9.1.0.70 nvidia-cufft-cu12-11.2.1.3 nvidia-curand-cu12-10.3.5.147 nvidia-cusolver-cu12-11.6.1.9 nvidia-cusparse-cu12-12.3.1.170 nvidia-nvjitlink-cu12-12.4.127\n"
          ]
        }
      ],
      "source": [
        "!pip install git+https://github.com/araffin/rlss23-dqn-tutorial/ --upgrade"
      ]
    },
    {
      "cell_type": "code",
      "execution_count": 4,
      "id": "fae52974-fda2-487a-9f64-80bf58125785",
      "metadata": {
        "colab": {
          "base_uri": "https://localhost:8080/"
        },
        "id": "fae52974-fda2-487a-9f64-80bf58125785",
        "outputId": "69c87fe5-97b9-4ae8-c877-d50dae80606d"
      },
      "outputs": [
        {
          "output_type": "stream",
          "name": "stdout",
          "text": [
            "Reading package lists... Done\n",
            "Building dependency tree... Done\n",
            "Reading state information... Done\n",
            "ffmpeg is already the newest version (7:4.4.2-0ubuntu0.22.04.1).\n",
            "0 upgraded, 0 newly installed, 0 to remove and 29 not upgraded.\n"
          ]
        }
      ],
      "source": [
        "!apt-get install ffmpeg  # For visualization"
      ]
    },
    {
      "cell_type": "markdown",
      "id": "e2369b55-266c-4dbe-b14d-250ef7386407",
      "metadata": {
        "id": "e2369b55-266c-4dbe-b14d-250ef7386407"
      },
      "source": [
        "## First steps with the Gym interface\n",
        "\n",
        "An environment that follows the [gym interface](https://gymnasium.farama.org/) is quite simple to use.\n",
        "It provides to this user mainly three methods, which have the following signature (for gym versions > 0.26):\n",
        "\n",
        "- `reset()` called at the beginning of an episode, it returns an observation and a dictionary with additional info (defaults to an empty dict)\n",
        "- `step(action)` called to take an action with the environment, it returns the next observation, the immediate reward, whether new state is a terminal state (episode is finished), whether the max number of timesteps is reached (episode is artificially finished), and additional information\n",
        "- (Optional) `render()` which allow to visualize the agent in action. Note that graphical interface does not work on google colab, so we cannot use it directly (we have to rely on `render_mode='rbg_array'` to retrieve an image of the scene).\n",
        "\n",
        "Under the hood, it also contains two useful properties:\n",
        "- `observation_space` which one of the gym spaces (`Discrete`, `Box`, ...) and describe the type and shape of the observation\n",
        "- `action_space` which is also a gym space object that describes the action space, so the type of action that can be taken\n",
        "\n",
        "The best way to learn about [gym spaces](https://gymnasium.farama.org/api/spaces/) is to look at the [source code](https://github.com/Farama-Foundation/Gymnasium/tree/main/gymnasium/spaces), but you need to know at least the main ones:\n",
        "- `gym.spaces.Box`: A (possibly unbounded) box in $R^n$. Specifically, a Box represents the Cartesian product of n closed intervals. Each interval has the form of one of [a, b], (-oo, b], [a, oo), or (-oo, oo). Example: A 1D-Vector or an image observation can be described with the Box space.\n",
        "```python\n",
        "# Example for using image as input:\n",
        "observation_space = spaces.Box(low=0, high=255, shape=(HEIGHT, WIDTH, N_CHANNELS), dtype=np.uint8)\n",
        "```                                       \n",
        "\n",
        "- `gym.spaces.Discrete`: A discrete space in $\\{ 0, 1, \\dots, n-1 \\}$\n",
        "  Example: if you have two actions (\"left\" and \"right\") you can represent your action space using `Discrete(2)`, the first action will be 0 and the second 1."
      ]
    },
    {
      "cell_type": "markdown",
      "id": "af049724-3db9-4dec-a40c-3aa025735f00",
      "metadata": {
        "id": "af049724-3db9-4dec-a40c-3aa025735f00"
      },
      "source": [
        "## CartPole Environment\n",
        "\n",
        "For this example, we will use CartPole environment, a classic control problem.\n",
        "\n",
        "\"A pole is attached by an un-actuated joint to a cart, which moves along a frictionless track. The system is controlled by applying a force of +1 or -1 to the cart. The pendulum starts upright, and the goal is to prevent it from falling over. A reward of +1 is provided for every timestep that the pole remains upright. \"\n",
        "\n",
        "Cartpole environment: [https://gymnasium.farama.org/environments/classic_control/cart_pole/](https://gymnasium.farama.org/environments/classic_control/cart_pole/)\n",
        "\n",
        "![Cartpole](https://cdn-images-1.medium.com/max/1143/1*h4WTQNVIsvMXJTCpXm_TAw.gif)"
      ]
    },
    {
      "cell_type": "code",
      "execution_count": 5,
      "id": "60ec422f-2edd-40df-8da2-c1093e1da38c",
      "metadata": {
        "id": "60ec422f-2edd-40df-8da2-c1093e1da38c"
      },
      "outputs": [],
      "source": [
        "import gymnasium as gym\n",
        "\n",
        "# Instantiate the environment\n",
        "env = gym.make(\"CartPole-v1\")"
      ]
    },
    {
      "cell_type": "code",
      "execution_count": 6,
      "id": "476f88b6-4fe2-45ec-bddd-4d83feb3a86f",
      "metadata": {
        "colab": {
          "base_uri": "https://localhost:8080/"
        },
        "id": "476f88b6-4fe2-45ec-bddd-4d83feb3a86f",
        "outputId": "1eec1ed4-8be0-4668-bee5-197c27c91e56"
      },
      "outputs": [
        {
          "output_type": "stream",
          "name": "stdout",
          "text": [
            "Observation space: Box([-4.8               -inf -0.41887903        -inf], [4.8               inf 0.41887903        inf], (4,), float32)\n",
            "Shape: (4,)\n",
            "Action space: Discrete(2)\n"
          ]
        }
      ],
      "source": [
        "# Box(4,) means that it is a Vector with 4 components\n",
        "print(\"Observation space:\", env.observation_space)\n",
        "print(\"Shape:\", env.observation_space.shape)\n",
        "# Discrete(2) means that there is two discrete actions\n",
        "print(\"Action space:\", env.action_space)"
      ]
    },
    {
      "cell_type": "code",
      "execution_count": 7,
      "id": "e414990e-2cbd-4f6f-b268-42f16a9b253b",
      "metadata": {
        "id": "e414990e-2cbd-4f6f-b268-42f16a9b253b"
      },
      "outputs": [],
      "source": [
        "# The reset method is called at the beginning of an episode\n",
        "obs, info = env.reset()"
      ]
    },
    {
      "cell_type": "code",
      "execution_count": 8,
      "id": "e89a95c8-d64a-43a3-adee-344891bbd1b7",
      "metadata": {
        "colab": {
          "base_uri": "https://localhost:8080/"
        },
        "id": "e89a95c8-d64a-43a3-adee-344891bbd1b7",
        "outputId": "d4701a4a-7324-4d12-aa27-9e9e3ef6fd95"
      },
      "outputs": [
        {
          "output_type": "stream",
          "name": "stdout",
          "text": [
            "Sampled action: 1\n"
          ]
        }
      ],
      "source": [
        "# Sample a random action\n",
        "action = env.action_space.sample()\n",
        "print(f\"Sampled action: {action}\")"
      ]
    },
    {
      "cell_type": "code",
      "execution_count": 9,
      "id": "311777a2-9518-496a-b1e8-0eb1af81fb7d",
      "metadata": {
        "id": "311777a2-9518-496a-b1e8-0eb1af81fb7d"
      },
      "outputs": [],
      "source": [
        "# step in the environment\n",
        "obs, reward, terminated, truncated, info = env.step(action)"
      ]
    },
    {
      "cell_type": "code",
      "execution_count": 10,
      "id": "5102a9c8-8407-4f88-b58d-4e3e5a00af3b",
      "metadata": {
        "colab": {
          "base_uri": "https://localhost:8080/"
        },
        "id": "5102a9c8-8407-4f88-b58d-4e3e5a00af3b",
        "outputId": "3789750b-8e9b-4485-d0d4-6b58030920c5"
      },
      "outputs": [
        {
          "output_type": "stream",
          "name": "stdout",
          "text": [
            "(4,) 1.0 False False {}\n"
          ]
        }
      ],
      "source": [
        "# Note the obs is a numpy array\n",
        "# info is an empty dict for now but can contain any debugging info\n",
        "# reward is a scalar\n",
        "print(obs.shape, reward, terminated, truncated, info)"
      ]
    },
    {
      "cell_type": "markdown",
      "id": "90fbec50-1da0-4bc4-8b88-79fa38480bfe",
      "metadata": {
        "id": "90fbec50-1da0-4bc4-8b88-79fa38480bfe"
      },
      "source": [
        "### Exercise (10 minutes): write the function to collect data\n",
        "\n",
        "This function collects an offline dataset of transitions that will be used to train a model using the FQI algorithm.\n",
        "\n",
        "See docstring of the function for what is expected as input/output."
      ]
    },
    {
      "cell_type": "code",
      "execution_count": 11,
      "id": "1f1b3ff1-911b-4582-91f7-49420380eda3",
      "metadata": {
        "id": "1f1b3ff1-911b-4582-91f7-49420380eda3"
      },
      "outputs": [],
      "source": [
        "from dataclasses import dataclass\n",
        "\n",
        "import numpy as np\n",
        "from gymnasium import spaces\n",
        "\n",
        "\n",
        "@dataclass\n",
        "class OfflineData:\n",
        "    \"\"\"\n",
        "    A class to store transitions.\n",
        "    \"\"\"\n",
        "\n",
        "    observations: np.ndarray  # same as \"state\" in the theory\n",
        "    next_observations: np.ndarray\n",
        "    actions: np.ndarray\n",
        "    rewards: np.ndarray\n",
        "    terminateds: np.ndarray"
      ]
    },
    {
      "cell_type": "code",
      "execution_count": 12,
      "id": "f9f753ed-5f5d-4133-ab82-c84b3cfe2eef",
      "metadata": {
        "id": "f9f753ed-5f5d-4133-ab82-c84b3cfe2eef"
      },
      "outputs": [],
      "source": [
        "def collect_data(env_id: str, n_steps: int = 50_000) -> OfflineData:\n",
        "    \"\"\"\n",
        "    Collect transitions using a random agent (sample action randomly).\n",
        "\n",
        "    :param env_id: The name of the environment.\n",
        "    :param n_steps: Number of steps to perform in the env.\n",
        "    :return: The collected transitions.\n",
        "    \"\"\"\n",
        "    # Create the Gym env\n",
        "    env = gym.make(env_id)\n",
        "\n",
        "    assert isinstance(env.observation_space, spaces.Box)\n",
        "    # Numpy arrays (buffers) to collect the data\n",
        "    observations = np.zeros((n_steps, *env.observation_space.shape))\n",
        "    next_observations = np.zeros((n_steps, *env.observation_space.shape))\n",
        "    # Discrete actions\n",
        "    actions = np.zeros((n_steps, 1))\n",
        "    rewards = np.zeros((n_steps,))\n",
        "    terminateds = np.zeros((n_steps,))\n",
        "\n",
        "    # Variable to know if the episode is over (done = terminated or truncated)\n",
        "    done = False\n",
        "    # Start the first episode\n",
        "    obs, _ = env.reset()\n",
        "\n",
        "    ### YOUR CODE HERE\n",
        "    # You need to collect transitions for `n_steps` using\n",
        "    # a random agent (sample action uniformly).\n",
        "    # Do not forget to reset the environment if the current episode is over\n",
        "    # (done = terminated or truncated)\n",
        "    #\n",
        "    # TODO:\n",
        "    # 1. Sample a random action\n",
        "    # 2. Step in the env using this random action\n",
        "    # 3. Retrieve the new transition data (observation, reward, ...)\n",
        "    #  and update the numpy arrays (buffers)\n",
        "    # 4. Repeat until you collected `n_steps` transitions\n",
        "\n",
        "    for idx in range(n_steps):\n",
        "        # Sample a random action\n",
        "        action = env.action_space.sample()\n",
        "        # Step in the environment\n",
        "        next_obs, reward, terminated, truncated, info_ = env.step(action)\n",
        "\n",
        "        # Store the transition\n",
        "        # Note: we only record true termination (timeouts/truncations are artificial terminations)\n",
        "        observations[idx, :] = obs\n",
        "        next_observations[idx, :] = next_obs\n",
        "        actions[idx, :] = action\n",
        "        rewards[idx] = reward\n",
        "        terminateds[idx] = terminated\n",
        "        # Update current observation\n",
        "        obs = next_obs\n",
        "        # Check if the episode is over\n",
        "        done = terminated or truncated\n",
        "\n",
        "        # Don't forget to reset the env at the end of an episode\n",
        "        if done:\n",
        "            obs, _ = env.reset()\n",
        "\n",
        "    ### END OF YOUR CODE\n",
        "\n",
        "    return OfflineData(\n",
        "        observations,\n",
        "        next_observations,\n",
        "        actions,\n",
        "        rewards,\n",
        "        terminateds,\n",
        "    )"
      ]
    },
    {
      "cell_type": "markdown",
      "id": "dbe5d4b3-d3d6-4f82-9337-a8566c1fc707",
      "metadata": {
        "id": "dbe5d4b3-d3d6-4f82-9337-a8566c1fc707"
      },
      "source": [
        "Let's try the collect data method:"
      ]
    },
    {
      "cell_type": "code",
      "execution_count": 13,
      "id": "f499a940-a35f-4b8c-86bb-94231c41a87e",
      "metadata": {
        "id": "f499a940-a35f-4b8c-86bb-94231c41a87e"
      },
      "outputs": [],
      "source": [
        "env_id = \"CartPole-v1\"\n",
        "n_steps = 50_000\n",
        "# Collect transitions for n_steps\n",
        "data = collect_data(env_id=env_id, n_steps=n_steps)"
      ]
    },
    {
      "cell_type": "code",
      "execution_count": 14,
      "id": "8ae0713b-63f3-40f0-8471-f3f7e3c53f88",
      "metadata": {
        "id": "8ae0713b-63f3-40f0-8471-f3f7e3c53f88"
      },
      "outputs": [],
      "source": [
        "# Check the length of the collected data\n",
        "assert len(data.observations) == n_steps\n",
        "assert len(data.actions) == n_steps\n",
        "# Check that there are multiple episodes in the data\n",
        "assert not np.all(data.terminateds)\n",
        "assert np.any(data.terminateds)\n",
        "# Check the shape of the collected data\n",
        "if env_id == \"CartPole-v1\":\n",
        "    assert data.observations.shape == (n_steps, 4)\n",
        "    assert data.next_observations.shape == (n_steps, 4)\n",
        "assert data.actions.shape == (n_steps, 1)\n",
        "assert data.rewards.shape == (n_steps,)"
      ]
    },
    {
      "cell_type": "code",
      "execution_count": 15,
      "id": "f815ff42-3c8e-4ab5-835f-70438171751b",
      "metadata": {
        "colab": {
          "base_uri": "https://localhost:8080/"
        },
        "id": "f815ff42-3c8e-4ab5-835f-70438171751b",
        "outputId": "fc211d24-1d68-48ab-ea2a-4b0afa474e2f"
      },
      "outputs": [
        {
          "output_type": "stream",
          "name": "stdout",
          "text": [
            "Saving to ../data/CartPole-v1_data.npz\n"
          ]
        }
      ],
      "source": [
        "from pathlib import Path\n",
        "\n",
        "from dqn_tutorial.fqi import save_data\n",
        "\n",
        "output_filename = Path(\"../data\") / f\"{env_id}_data\"\n",
        "# Create folder if it doesn't exist\n",
        "output_filename.parent.mkdir(parents=True, exist_ok=True)\n",
        "\n",
        "# Save collected data using numpy\n",
        "save_data(data, output_filename)"
      ]
    },
    {
      "cell_type": "markdown",
      "id": "2ff52b1a-6eb1-4284-b25f-8d59ab005ed5",
      "metadata": {
        "id": "2ff52b1a-6eb1-4284-b25f-8d59ab005ed5"
      },
      "source": [
        "## Fitted Q Iteration (FQI) Algorithm\n",
        "\n",
        "\n",
        "<div>\n",
        "    <img src=\"attachment:008df18a-8225-4766-aa89-c713f5f953af.png\" width=\"500\"/>\n",
        "</div>"
      ]
    },
    {
      "cell_type": "code",
      "execution_count": 16,
      "id": "045b251a-9ace-450b-afa9-7ee4128cdef6",
      "metadata": {
        "id": "045b251a-9ace-450b-afa9-7ee4128cdef6"
      },
      "outputs": [],
      "source": [
        "from functools import partial\n",
        "from pathlib import Path\n",
        "from typing import Optional\n",
        "\n",
        "import gymnasium as gym\n",
        "import numpy as np\n",
        "from gymnasium import spaces\n",
        "from sklearn import tree\n",
        "from sklearn.base import RegressorMixin\n",
        "from sklearn.exceptions import NotFittedError\n",
        "from sklearn.ensemble import GradientBoostingRegressor, RandomForestRegressor\n",
        "from sklearn.linear_model import LinearRegression\n",
        "from sklearn.preprocessing import PolynomialFeatures\n",
        "from sklearn.neighbors import KNeighborsRegressor"
      ]
    },
    {
      "cell_type": "markdown",
      "id": "239ad0de-bec9-4918-a691-4322d062c45a",
      "metadata": {
        "id": "239ad0de-bec9-4918-a691-4322d062c45a"
      },
      "source": [
        "### Choosing a Model\n",
        "\n",
        "With FQI, you can use any regression model.\n",
        "\n",
        "Here we are choosing a [k-nearest neighbors regressor](https://scikit-learn.org/stable/modules/neighbors.html#regression), but one could choose a linear model, a decision tree, a neural network, ..."
      ]
    },
    {
      "cell_type": "code",
      "execution_count": 17,
      "id": "1d8d873e-bc40-4a35-b98b-4fe9ce916aab",
      "metadata": {
        "id": "1d8d873e-bc40-4a35-b98b-4fe9ce916aab"
      },
      "outputs": [],
      "source": [
        "# First choose the regressor\n",
        "model_class = partial(KNeighborsRegressor, n_neighbors=30)  # LinearRegression, GradientBoostingRegressor"
      ]
    },
    {
      "cell_type": "markdown",
      "id": "be7a24b4-a416-4607-af3a-9dfdbc203fc1",
      "metadata": {
        "id": "be7a24b4-a416-4607-af3a-9dfdbc203fc1"
      },
      "source": [
        "### Loading offline dataset"
      ]
    },
    {
      "cell_type": "code",
      "execution_count": 18,
      "id": "1fe29bd2-ea95-4778-b466-537a088615b0",
      "metadata": {
        "id": "1fe29bd2-ea95-4778-b466-537a088615b0"
      },
      "outputs": [],
      "source": [
        "from dqn_tutorial.fqi import load_data\n",
        "\n",
        "env_id = \"CartPole-v1\"\n",
        "output_filename = Path(\"../data\") / f\"{env_id}_data.npz\"\n",
        "render_mode = \"rgb_array\"\n",
        "\n",
        "# Create test environment\n",
        "env = gym.make(env_id, render_mode=render_mode)\n",
        "\n",
        "# Load saved transitions\n",
        "data = load_data(output_filename)"
      ]
    },
    {
      "cell_type": "markdown",
      "id": "a7c0f461-9c04-48f2-ad57-21b555a7c041",
      "metadata": {
        "id": "a7c0f461-9c04-48f2-ad57-21b555a7c041"
      },
      "source": [
        "### First Iteration\n",
        "\n",
        "For $n = 0$, the initial training set is defined as:\n",
        "\n",
        "- $x = (s_t, a_t)$\n",
        "- $y = r_t$\n",
        "\n",
        "We fit a regression model $f_\\theta(x) = y$ to obtain $ Q^{n=0}_\\theta(s, a) $"
      ]
    },
    {
      "cell_type": "code",
      "execution_count": 19,
      "id": "26940b3e-4c9a-4632-a198-2e0ce7b12b88",
      "metadata": {
        "id": "26940b3e-4c9a-4632-a198-2e0ce7b12b88"
      },
      "outputs": [],
      "source": [
        "# First iteration:\n",
        "# The target q-value is the reward obtained\n",
        "targets = data.rewards.copy()\n",
        "# Create input for current observations and actions\n",
        "# Concatenate the observations and actions\n",
        "# so we can predict qf(s_t, a_t)\n",
        "current_obs_input = np.concatenate((data.observations, data.actions), axis=1)\n",
        "# Fit the estimator for the current target\n",
        "model = model_class().fit(current_obs_input, targets)"
      ]
    },
    {
      "cell_type": "markdown",
      "id": "5bf9544c-87f4-4872-9ae9-eef49c3a040a",
      "metadata": {
        "id": "5bf9544c-87f4-4872-9ae9-eef49c3a040a"
      },
      "source": [
        "### 1. Exercise (10 minutes): write the function to predict Q-Values\n",
        "\n",
        "\n",
        "<div>\n",
        "    <img src=\"attachment:e3d00cba-8345-4c65-8027-ab06d99d2305.png\" width=\"300\"/>\n",
        "</div>"
      ]
    },
    {
      "cell_type": "code",
      "execution_count": 20,
      "id": "1d1c52d1-4336-4caa-9d91-cfb641e7972a",
      "metadata": {
        "id": "1d1c52d1-4336-4caa-9d91-cfb641e7972a"
      },
      "outputs": [],
      "source": [
        "def get_q_values(\n",
        "    model: RegressorMixin,\n",
        "    obs: np.ndarray,\n",
        "    n_actions: int,\n",
        ") -> np.ndarray:\n",
        "    \"\"\"\n",
        "    Retrieve the q-values for a set of observations.\n",
        "    qf(q_t, action) for all possible actions.\n",
        "\n",
        "    :param model: Q-value estimator\n",
        "    :param obs: A batch of observations\n",
        "    :param n_actions: Number of discrete actions.\n",
        "    :return: The predicted q-values for the given observations\n",
        "        (batch_size, n_actions)\n",
        "    \"\"\"\n",
        "    batch_size = len(obs)\n",
        "    q_values = np.zeros((batch_size, n_actions))\n",
        "\n",
        "    ### YOUR CODE HERE\n",
        "    # TODO: for every possible actions a:\n",
        "    # 1. Create the regression model input $(s, a)$ for the action a\n",
        "    # and states s (here a batch of observations)\n",
        "    # 2. Predict the q-values for the batch of states\n",
        "    # 3. Update q-values array for the current action a\n",
        "\n",
        "    # Predict q-value for each action\n",
        "    for action_idx in range(n_actions):\n",
        "        # Note: we should do one hot encoding if not using CartPole (n_actions > 2)\n",
        "        # Create a vector of size (batch_size, 1) for the current action\n",
        "        # This allows to do batch prediction for all the provided observations\n",
        "        actions = action_idx * np.ones((batch_size, 1))\n",
        "        # Concatenate the observations and the actions to obtain\n",
        "        # the input to the q-value estimator\n",
        "        # you can use `np.concatenate()`\n",
        "        model_input = np.concatenate((obs, actions), axis=1)\n",
        "        # Predict q-values for the given observation/action combination\n",
        "        # shape: (batch_size, 1)\n",
        "        predicted_q_values = model.predict(model_input)\n",
        "        # Update the q-values array for the current action\n",
        "        q_values[:, action_idx] = predicted_q_values\n",
        "\n",
        "    ### END OF YOUR CODE\n",
        "\n",
        "    return q_values"
      ]
    },
    {
      "cell_type": "markdown",
      "id": "353de669-1744-43be-a3dc-5310d23c72a4",
      "metadata": {
        "id": "353de669-1744-43be-a3dc-5310d23c72a4"
      },
      "source": [
        "Let's test it with a subset of the collected data:"
      ]
    },
    {
      "cell_type": "code",
      "execution_count": 21,
      "id": "6910968b-16db-41fe-a6d9-ff8c65322c85",
      "metadata": {
        "id": "6910968b-16db-41fe-a6d9-ff8c65322c85"
      },
      "outputs": [],
      "source": [
        "n_observations = 2\n",
        "n_actions = int(env.action_space.n)\n",
        "\n",
        "q_values = get_q_values(model, data.observations[:n_observations], n_actions)\n",
        "\n",
        "assert q_values.shape == (n_observations, n_actions)"
      ]
    },
    {
      "cell_type": "markdown",
      "id": "a883ff38-48e9-4f7c-8692-33a9d1b325d2",
      "metadata": {
        "id": "a883ff38-48e9-4f7c-8692-33a9d1b325d2"
      },
      "source": [
        "### 2. Exercise (5 minutes): write the function to evaluate a model\n",
        "\n",
        "A greedy policy $\\pi(s)$ can be defined using the q-value:\n",
        "\n",
        "$\\pi(s) = argmax_{a \\in A} Q(s, a)$.\n",
        "\n",
        "It is the policy that take the action with the highest q-value for a given state."
      ]
    },
    {
      "cell_type": "code",
      "execution_count": 22,
      "id": "2b1f4b18-a811-43fa-925d-20ad2f4d52d7",
      "metadata": {
        "id": "2b1f4b18-a811-43fa-925d-20ad2f4d52d7"
      },
      "outputs": [],
      "source": [
        "import os\n",
        "\n",
        "from gymnasium.wrappers import RecordVideo\n",
        "\n",
        "\n",
        "def evaluate(\n",
        "    model: RegressorMixin,\n",
        "    env: gym.Env,\n",
        "    n_eval_episodes: int = 10,\n",
        "    video_name: Optional[str] = None,\n",
        ") -> None:\n",
        "    episode_returns, episode_reward = [], 0.0\n",
        "    total_episodes = 0\n",
        "    done = False\n",
        "\n",
        "    # Setup video recorder\n",
        "    video_recorder = None\n",
        "    if video_name is not None and env.render_mode == \"rgb_array\":\n",
        "        os.makedirs(\"../logs/videos/\", exist_ok=True)\n",
        "\n",
        "        # New gym recorder always wants to cut video into episodes,\n",
        "        # set video length big enough but not to inf (will cut into episodes)\n",
        "        env = RecordVideo(env, \"../logs/videos\", step_trigger=lambda _: False, video_length=100_000)\n",
        "        env.start_recording(video_name)\n",
        "\n",
        "    obs, _ = env.reset()\n",
        "    n_actions = int(env.action_space.n)\n",
        "    assert isinstance(env.action_space, spaces.Discrete), \"FQI only support discrete actions\"\n",
        "\n",
        "    while total_episodes < n_eval_episodes:\n",
        "\n",
        "        ### YOUR CODE HERE\n",
        "\n",
        "        # Retrieve the q-values for the current observation\n",
        "        # you need to re-use `get_q_values()`\n",
        "        # Note: you need to add a batch dimension to the observation\n",
        "        # you can use `obs[np.newaxis, ...]` for that: (obs_dim,) -> (batch_size=1, obs_dim)\n",
        "        q_values = get_q_values(\n",
        "            model,\n",
        "            obs[np.newaxis, ...],\n",
        "            n_actions,\n",
        "        )\n",
        "        # Select the action that maximizes the q-value for each state\n",
        "        # Don't forget to remove the batch dimension, you can `.item()` for that\n",
        "        best_action = int(np.argmax(q_values, axis=1).item())\n",
        "\n",
        "        # Send the action to the env\n",
        "        obs, reward, terminated, truncated, _ = env.step(best_action)\n",
        "\n",
        "        ### END OF YOUR CODE\n",
        "\n",
        "        episode_reward += float(reward)\n",
        "\n",
        "        done = terminated or truncated\n",
        "        if done:\n",
        "            episode_returns.append(episode_reward)\n",
        "            episode_reward = 0.0\n",
        "            total_episodes += 1\n",
        "            obs, _ = env.reset()\n",
        "\n",
        "    if isinstance(env, RecordVideo):\n",
        "        print(f\"Saving video to ../logs/videos/{video_name}\")\n",
        "        env.close()\n",
        "\n",
        "    print(f\"Total reward = {np.mean(episode_returns):.2f} +/- {np.std(episode_returns):.2f}\")"
      ]
    },
    {
      "cell_type": "code",
      "execution_count": 23,
      "id": "23e326d9-1fa7-4efd-a841-b1d9e5ef9484",
      "metadata": {
        "colab": {
          "base_uri": "https://localhost:8080/"
        },
        "id": "23e326d9-1fa7-4efd-a841-b1d9e5ef9484",
        "outputId": "e7010bb6-4bed-42a0-eaef-120e5b09ab36"
      },
      "outputs": [
        {
          "output_type": "stream",
          "name": "stdout",
          "text": [
            "Total reward = 9.60 +/- 0.49\n"
          ]
        }
      ],
      "source": [
        "# Evaluate the first iteration\n",
        "evaluate(model, env, n_eval_episodes=10)"
      ]
    },
    {
      "cell_type": "markdown",
      "id": "eced782e-653d-4041-8473-2c39d12ba9a9",
      "metadata": {
        "id": "eced782e-653d-4041-8473-2c39d12ba9a9"
      },
      "source": [
        "### 3. Exercise (15 minutes): the fitted Q iterations\n",
        "\n",
        "1. Create the training set based on the previous iteration $ Q^{n-1}_\\theta(s, a) $ and the transitions:\n",
        "- input: $x = (s_t, a_t)$\n",
        "- if $s_{t+1}$ is non-terminal: $y = r_t + \\gamma \\cdot \\max_{a' \\in A}(Q^{n-1}_\\theta(s_{t+1}, a'))$\n",
        "- if $s_{t+1}$ is terminal, do not bootstrap: $y = r_t$\n",
        "\n",
        "2. Fit a model $f_\\theta$ using a regression algorithm to obtain $ Q^{n}_\\theta(s, a)$\n",
        "\n",
        "\\begin{aligned}\n",
        " f_\\theta(x) = y\n",
        "\\end{aligned}\n",
        "\n",
        "4. Repeat, $n = n + 1$"
      ]
    },
    {
      "cell_type": "markdown",
      "id": "5d824b98-6360-4d4e-a3e2-584c0c36665e",
      "metadata": {
        "id": "5d824b98-6360-4d4e-a3e2-584c0c36665e"
      },
      "source": [
        "First, let's define some constants:"
      ]
    },
    {
      "cell_type": "code",
      "execution_count": 24,
      "id": "7cbff0d8-eab0-4cec-847e-23bc1c509359",
      "metadata": {
        "id": "7cbff0d8-eab0-4cec-847e-23bc1c509359"
      },
      "outputs": [],
      "source": [
        "# Max number of iterations\n",
        "n_iterations = 20\n",
        "# How often do we evaluate the learned model\n",
        "eval_freq = 2\n",
        "# How many episodes to evaluate every eval-freq\n",
        "n_eval_episodes = 10\n",
        "# discount factor\n",
        "gamma = 0.99\n",
        "# Number of discrete actions\n",
        "n_actions = int(env.action_space.n)"
      ]
    },
    {
      "cell_type": "markdown",
      "id": "18d564da-7170-4bf8-8259-f19d0b12bcbd",
      "metadata": {
        "id": "18d564da-7170-4bf8-8259-f19d0b12bcbd"
      },
      "source": [
        "Then do several iteration of the FQI algorithm"
      ]
    },
    {
      "cell_type": "code",
      "execution_count": 25,
      "id": "21c99207-4a80-4263-8b13-1818f65632e1",
      "metadata": {
        "colab": {
          "base_uri": "https://localhost:8080/"
        },
        "id": "21c99207-4a80-4263-8b13-1818f65632e1",
        "outputId": "2f6a41c8-1430-4289-c8d9-1261eb9d8099"
      },
      "outputs": [
        {
          "output_type": "stream",
          "name": "stdout",
          "text": [
            "Iter 2\n",
            "Score: 0.73\n",
            "Total reward = 29.90 +/- 29.98\n",
            "Iter 4\n",
            "Score: 0.86\n",
            "Total reward = 120.80 +/- 34.15\n",
            "Iter 6\n",
            "Score: 0.90\n",
            "Total reward = 139.60 +/- 66.39\n",
            "Iter 8\n",
            "Score: 0.92\n",
            "Total reward = 208.50 +/- 99.48\n",
            "Iter 10\n",
            "Score: 0.92\n",
            "Total reward = 282.40 +/- 39.30\n",
            "Iter 12\n",
            "Score: 0.93\n",
            "Total reward = 328.00 +/- 52.75\n",
            "Iter 14\n",
            "Score: 0.93\n",
            "Total reward = 328.70 +/- 74.24\n",
            "Iter 16\n",
            "Score: 0.93\n",
            "Total reward = 397.70 +/- 80.75\n",
            "Iter 18\n",
            "Score: 0.94\n",
            "Total reward = 432.80 +/- 75.23\n",
            "Iter 20\n",
            "Score: 0.94\n",
            "Total reward = 385.00 +/- 101.01\n"
          ]
        }
      ],
      "source": [
        "for iter_idx in range(n_iterations):\n",
        "    ### YOUR CODE HERE\n",
        "    # TODO:\n",
        "    # 1. Compute the q values for the next states using\n",
        "    # the previous regression model\n",
        "    # 2. Keep only the next q values that correspond\n",
        "    # to the greedy-policy\n",
        "    # 3. Construct the regression target (TD(0) target)\n",
        "    # 4. Fit a new regression model with this new target\n",
        "\n",
        "    # Construct TD(0) target\n",
        "    # using current model and the next observations\n",
        "\n",
        "    # First, retrieve the q-values for the next states\n",
        "    # for all possible actions\n",
        "    # you need to use `get_q_values()` method\n",
        "    next_q_values = get_q_values(\n",
        "        model,\n",
        "        data.next_observations,\n",
        "        n_actions=n_actions,\n",
        "    )\n",
        "    # Follow-greedy policy: use the action with the highest q-value\n",
        "    # to compute the next q-values\n",
        "    next_q_values = next_q_values.max(axis=1)\n",
        "    # The new target is the reward + what our agent expect to get\n",
        "    # if it follows a greedy policy (follow action with the highest q-value)\n",
        "    # Reminder: you should not bootstrap if terminated=True\n",
        "    # (you can mask the next q values for that using `np.logical_not`)\n",
        "    should_bootstrap = np.logical_not(data.terminateds) # (1 - data.terminateds)\n",
        "    targets = data.rewards + gamma * should_bootstrap * next_q_values\n",
        "    # Update the q-value estimate with the current target,\n",
        "    # i.e., fit a regression model using the new target\n",
        "    model = model_class().fit(current_obs_input, targets)\n",
        "\n",
        "    ### END OF YOUR CODE\n",
        "\n",
        "    if (iter_idx + 1) % eval_freq == 0:\n",
        "        print(f\"Iter {iter_idx + 1}\")\n",
        "        print(f\"Score: {model.score(current_obs_input, targets):.2f}\")\n",
        "        evaluate(model, env, n_eval_episodes)"
      ]
    },
    {
      "cell_type": "markdown",
      "id": "e3477740-bfe4-4e0b-8a5d-cd0206786c8b",
      "metadata": {
        "id": "e3477740-bfe4-4e0b-8a5d-cd0206786c8b"
      },
      "source": [
        "### Record a video of the trained agent"
      ]
    },
    {
      "cell_type": "code",
      "execution_count": 26,
      "id": "da8d90cc-2d77-4682-a97c-a3dacd081f38",
      "metadata": {
        "colab": {
          "base_uri": "https://localhost:8080/"
        },
        "id": "da8d90cc-2d77-4682-a97c-a3dacd081f38",
        "outputId": "51bf1a4f-a24b-4e6c-dd7b-e2814db36acc"
      },
      "outputs": [
        {
          "output_type": "stream",
          "name": "stderr",
          "text": [
            "/usr/local/lib/python3.11/dist-packages/gymnasium/wrappers/rendering.py:283: UserWarning: \u001b[33mWARN: Overwriting existing videos at /logs/videos folder (try specifying a different `video_folder` for the `RecordVideo` wrapper if this is not desired)\u001b[0m\n",
            "  logger.warn(\n"
          ]
        },
        {
          "output_type": "stream",
          "name": "stdout",
          "text": [
            "Saving video to ../logs/videos/FQI_CartPole-v1\n",
            "Total reward = 464.33 +/- 50.44\n"
          ]
        }
      ],
      "source": [
        "eval_env = gym.make(env_id, render_mode=\"rgb_array\")\n",
        "video_name = f\"FQI_{env_id}\"\n",
        "n_eval_episodes = 3\n",
        "\n",
        "evaluate(model, eval_env, n_eval_episodes, video_name=video_name)"
      ]
    },
    {
      "cell_type": "code",
      "execution_count": 27,
      "id": "bfc66910-de41-4622-9811-96addf8ba8d3",
      "metadata": {
        "colab": {
          "base_uri": "https://localhost:8080/",
          "height": 460
        },
        "id": "bfc66910-de41-4622-9811-96addf8ba8d3",
        "outputId": "e92989b5-41de-4bb9-d937-1b528f763918"
      },
      "outputs": [
        {
          "output_type": "stream",
          "name": "stdout",
          "text": [
            "FQI agent on CartPole-v1 after 20 iterations:\n"
          ]
        },
        {
          "output_type": "display_data",
          "data": {
            "text/plain": [
              "<IPython.core.display.HTML object>"
            ],
            "text/html": [
              "<video alt=\"../logs/videos/FQI_CartPole-v1.mp4\" autoplay\n",
              "                    loop controls style=\"height: 400px;\">\n",
              "                    <source src=\"data:video/mp4;base64,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\" type=\"video/mp4\" />\n",
              "                </video>"
            ]
          },
          "metadata": {}
        }
      ],
      "source": [
        "from dqn_tutorial.notebook_utils import show_videos\n",
        "\n",
        "print(f\"FQI agent on {env_id} after {n_iterations} iterations:\")\n",
        "show_videos(\"../logs/videos/\", prefix=video_name)"
      ]
    },
    {
      "cell_type": "markdown",
      "id": "69a60230-6477-4318-8d60-10f6eada6064",
      "metadata": {
        "id": "69a60230-6477-4318-8d60-10f6eada6064"
      },
      "source": [
        "### Going further\n",
        "\n",
        "- play with different models, and with their hyperparameters\n",
        "- play with the discount factor\n",
        "- play with the number of data collected/used\n",
        "- combine data from random policy with data from trained model"
      ]
    },
    {
      "cell_type": "markdown",
      "id": "40b8a44f-d48c-4a9d-8ed4-968c1ffb9948",
      "metadata": {
        "id": "40b8a44f-d48c-4a9d-8ed4-968c1ffb9948"
      },
      "source": [
        "## Conclusion\n",
        "\n",
        "What we have seen in this notebook:\n",
        "- collecting data using a random agent in a gym environment\n",
        "- predicting q-values using a regression model\n",
        "- the fitted q-iteration (FQI) algorithm to learn from an offline dataset"
      ]
    },
    {
      "cell_type": "code",
      "execution_count": null,
      "id": "761010b8-86dd-4958-b097-2912606b4493",
      "metadata": {
        "id": "761010b8-86dd-4958-b097-2912606b4493"
      },
      "outputs": [],
      "source": []
    }
  ],
  "metadata": {
    "kernelspec": {
      "display_name": "Python 3 (ipykernel)",
      "language": "python",
      "name": "python3"
    },
    "language_info": {
      "codemirror_mode": {
        "name": "ipython",
        "version": 3
      },
      "file_extension": ".py",
      "mimetype": "text/x-python",
      "name": "python",
      "nbconvert_exporter": "python",
      "pygments_lexer": "ipython3",
      "version": "3.10.9"
    },
    "colab": {
      "provenance": [],
      "include_colab_link": true
    }
  },
  "nbformat": 4,
  "nbformat_minor": 5
}