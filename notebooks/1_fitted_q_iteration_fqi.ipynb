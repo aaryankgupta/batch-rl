{
  "cells": [
    {
      "cell_type": "markdown",
      "id": "c09ada11-d3a6-4837-b4d0-9657106a54b5",
      "metadata": {
        "id": "c09ada11-d3a6-4837-b4d0-9657106a54b5"
      },
      "source": [
        "# RLSS2023 - DQN Tutorial: Fitted Q Iteration (FQI)\n",
        "\n",
        "Website: https://rlsummerschool.com/\n",
        "\n",
        "Github repository: https://github.com/araffin/rlss23-dqn-tutorial\n",
        "\n",
        "Gymnasium documentation: https://gymnasium.farama.org/\n",
        "\n",
        "## Introduction\n",
        "\n",
        "In this notebook, you will implement the Fitted Q Iteration( (FQI) algorithm to solve the [CartPole](https://gymnasium.farama.org/environments/classic_control/cart_pole/) problem.\n",
        "\n",
        "This notebooks will first cover the basics for using the Gymnasium library: how to instantiate an environment, step into it and collect training data from the FQI algorithm.\n",
        "\n",
        "You will then learn how to implement step-by-step the FQI algorithm which is the predecessor of the [Deep Q-Network (DQN)](https://stable-baselines3.readthedocs.io/en/master/modules/dqn.html) algorithm."
      ]
    },
    {
      "cell_type": "code",
      "execution_count": 58,
      "id": "7fe1a9aa-5735-4614-9a76-031656397899",
      "metadata": {
        "id": "7fe1a9aa-5735-4614-9a76-031656397899"
      },
      "outputs": [],
      "source": [
        "# for autoformatting\n",
        "# !pip install jupyter-black\n",
        "# %load_ext jupyter_black"
      ]
    },
    {
      "cell_type": "markdown",
      "id": "8188798b-daf5-43a7-91ec-a7a922bc2034",
      "metadata": {
        "id": "8188798b-daf5-43a7-91ec-a7a922bc2034"
      },
      "source": [
        "## Install Dependencies"
      ]
    },
    {
      "cell_type": "code",
      "execution_count": 59,
      "id": "0b55494c-fff2-4459-87e1-e7399afd56d5",
      "metadata": {
        "colab": {
          "base_uri": "https://localhost:8080/"
        },
        "id": "0b55494c-fff2-4459-87e1-e7399afd56d5",
        "outputId": "195484c6-79d5-467e-ff58-39923abb34ab"
      },
      "outputs": [
        {
          "output_type": "stream",
          "name": "stdout",
          "text": [
            "Collecting git+https://github.com/araffin/rlss23-dqn-tutorial/\n",
            "  Cloning https://github.com/araffin/rlss23-dqn-tutorial/ to /tmp/pip-req-build-bqijkw3t\n",
            "  Running command git clone --filter=blob:none --quiet https://github.com/araffin/rlss23-dqn-tutorial/ /tmp/pip-req-build-bqijkw3t\n",
            "  Resolved https://github.com/araffin/rlss23-dqn-tutorial/ to commit 7a678727c31cd1e2b9529881a5e9c2d82602a77d\n",
            "  Installing build dependencies ... \u001b[?25l\u001b[?25hdone\n",
            "  Getting requirements to build wheel ... \u001b[?25l\u001b[?25hdone\n",
            "  Preparing metadata (pyproject.toml) ... \u001b[?25l\u001b[?25hdone\n",
            "Requirement already satisfied: numpy in /usr/local/lib/python3.11/dist-packages (from dqn_tutorial==0.1.dev58+g7a67872) (1.26.4)\n",
            "Requirement already satisfied: gymnasium<1.1.0,>=0.29.1 in /usr/local/lib/python3.11/dist-packages (from gymnasium[classic-control,other]<1.1.0,>=0.29.1->dqn_tutorial==0.1.dev58+g7a67872) (1.0.0)\n",
            "Requirement already satisfied: scikit-learn in /usr/local/lib/python3.11/dist-packages (from dqn_tutorial==0.1.dev58+g7a67872) (1.6.1)\n",
            "Requirement already satisfied: torch>=2.4.0 in /usr/local/lib/python3.11/dist-packages (from dqn_tutorial==0.1.dev58+g7a67872) (2.5.1+cu124)\n",
            "Requirement already satisfied: cloudpickle>=1.2.0 in /usr/local/lib/python3.11/dist-packages (from gymnasium<1.1.0,>=0.29.1->gymnasium[classic-control,other]<1.1.0,>=0.29.1->dqn_tutorial==0.1.dev58+g7a67872) (3.1.1)\n",
            "Requirement already satisfied: typing-extensions>=4.3.0 in /usr/local/lib/python3.11/dist-packages (from gymnasium<1.1.0,>=0.29.1->gymnasium[classic-control,other]<1.1.0,>=0.29.1->dqn_tutorial==0.1.dev58+g7a67872) (4.12.2)\n",
            "Requirement already satisfied: farama-notifications>=0.0.1 in /usr/local/lib/python3.11/dist-packages (from gymnasium<1.1.0,>=0.29.1->gymnasium[classic-control,other]<1.1.0,>=0.29.1->dqn_tutorial==0.1.dev58+g7a67872) (0.0.4)\n",
            "Requirement already satisfied: pygame>=2.1.3 in /usr/local/lib/python3.11/dist-packages (from gymnasium[classic-control,other]<1.1.0,>=0.29.1->dqn_tutorial==0.1.dev58+g7a67872) (2.6.1)\n",
            "Requirement already satisfied: moviepy>=1.0.0 in /usr/local/lib/python3.11/dist-packages (from gymnasium[classic-control,other]<1.1.0,>=0.29.1->dqn_tutorial==0.1.dev58+g7a67872) (1.0.3)\n",
            "Requirement already satisfied: matplotlib>=3.0 in /usr/local/lib/python3.11/dist-packages (from gymnasium[classic-control,other]<1.1.0,>=0.29.1->dqn_tutorial==0.1.dev58+g7a67872) (3.10.0)\n",
            "Requirement already satisfied: opencv-python>=3.0 in /usr/local/lib/python3.11/dist-packages (from gymnasium[classic-control,other]<1.1.0,>=0.29.1->dqn_tutorial==0.1.dev58+g7a67872) (4.11.0.86)\n",
            "Requirement already satisfied: filelock in /usr/local/lib/python3.11/dist-packages (from torch>=2.4.0->dqn_tutorial==0.1.dev58+g7a67872) (3.17.0)\n",
            "Requirement already satisfied: networkx in /usr/local/lib/python3.11/dist-packages (from torch>=2.4.0->dqn_tutorial==0.1.dev58+g7a67872) (3.4.2)\n",
            "Requirement already satisfied: jinja2 in /usr/local/lib/python3.11/dist-packages (from torch>=2.4.0->dqn_tutorial==0.1.dev58+g7a67872) (3.1.6)\n",
            "Requirement already satisfied: fsspec in /usr/local/lib/python3.11/dist-packages (from torch>=2.4.0->dqn_tutorial==0.1.dev58+g7a67872) (2024.10.0)\n",
            "Requirement already satisfied: nvidia-cuda-nvrtc-cu12==12.4.127 in /usr/local/lib/python3.11/dist-packages (from torch>=2.4.0->dqn_tutorial==0.1.dev58+g7a67872) (12.4.127)\n",
            "Requirement already satisfied: nvidia-cuda-runtime-cu12==12.4.127 in /usr/local/lib/python3.11/dist-packages (from torch>=2.4.0->dqn_tutorial==0.1.dev58+g7a67872) (12.4.127)\n",
            "Requirement already satisfied: nvidia-cuda-cupti-cu12==12.4.127 in /usr/local/lib/python3.11/dist-packages (from torch>=2.4.0->dqn_tutorial==0.1.dev58+g7a67872) (12.4.127)\n",
            "Requirement already satisfied: nvidia-cudnn-cu12==9.1.0.70 in /usr/local/lib/python3.11/dist-packages (from torch>=2.4.0->dqn_tutorial==0.1.dev58+g7a67872) (9.1.0.70)\n",
            "Requirement already satisfied: nvidia-cublas-cu12==12.4.5.8 in /usr/local/lib/python3.11/dist-packages (from torch>=2.4.0->dqn_tutorial==0.1.dev58+g7a67872) (12.4.5.8)\n",
            "Requirement already satisfied: nvidia-cufft-cu12==11.2.1.3 in /usr/local/lib/python3.11/dist-packages (from torch>=2.4.0->dqn_tutorial==0.1.dev58+g7a67872) (11.2.1.3)\n",
            "Requirement already satisfied: nvidia-curand-cu12==10.3.5.147 in /usr/local/lib/python3.11/dist-packages (from torch>=2.4.0->dqn_tutorial==0.1.dev58+g7a67872) (10.3.5.147)\n",
            "Requirement already satisfied: nvidia-cusolver-cu12==11.6.1.9 in /usr/local/lib/python3.11/dist-packages (from torch>=2.4.0->dqn_tutorial==0.1.dev58+g7a67872) (11.6.1.9)\n",
            "Requirement already satisfied: nvidia-cusparse-cu12==12.3.1.170 in /usr/local/lib/python3.11/dist-packages (from torch>=2.4.0->dqn_tutorial==0.1.dev58+g7a67872) (12.3.1.170)\n",
            "Requirement already satisfied: nvidia-nccl-cu12==2.21.5 in /usr/local/lib/python3.11/dist-packages (from torch>=2.4.0->dqn_tutorial==0.1.dev58+g7a67872) (2.21.5)\n",
            "Requirement already satisfied: nvidia-nvtx-cu12==12.4.127 in /usr/local/lib/python3.11/dist-packages (from torch>=2.4.0->dqn_tutorial==0.1.dev58+g7a67872) (12.4.127)\n",
            "Requirement already satisfied: nvidia-nvjitlink-cu12==12.4.127 in /usr/local/lib/python3.11/dist-packages (from torch>=2.4.0->dqn_tutorial==0.1.dev58+g7a67872) (12.4.127)\n",
            "Requirement already satisfied: triton==3.1.0 in /usr/local/lib/python3.11/dist-packages (from torch>=2.4.0->dqn_tutorial==0.1.dev58+g7a67872) (3.1.0)\n",
            "Requirement already satisfied: sympy==1.13.1 in /usr/local/lib/python3.11/dist-packages (from torch>=2.4.0->dqn_tutorial==0.1.dev58+g7a67872) (1.13.1)\n",
            "Requirement already satisfied: mpmath<1.4,>=1.1.0 in /usr/local/lib/python3.11/dist-packages (from sympy==1.13.1->torch>=2.4.0->dqn_tutorial==0.1.dev58+g7a67872) (1.3.0)\n",
            "Requirement already satisfied: scipy>=1.6.0 in /usr/local/lib/python3.11/dist-packages (from scikit-learn->dqn_tutorial==0.1.dev58+g7a67872) (1.14.1)\n",
            "Requirement already satisfied: joblib>=1.2.0 in /usr/local/lib/python3.11/dist-packages (from scikit-learn->dqn_tutorial==0.1.dev58+g7a67872) (1.4.2)\n",
            "Requirement already satisfied: threadpoolctl>=3.1.0 in /usr/local/lib/python3.11/dist-packages (from scikit-learn->dqn_tutorial==0.1.dev58+g7a67872) (3.5.0)\n",
            "Requirement already satisfied: contourpy>=1.0.1 in /usr/local/lib/python3.11/dist-packages (from matplotlib>=3.0->gymnasium[classic-control,other]<1.1.0,>=0.29.1->dqn_tutorial==0.1.dev58+g7a67872) (1.3.1)\n",
            "Requirement already satisfied: cycler>=0.10 in /usr/local/lib/python3.11/dist-packages (from matplotlib>=3.0->gymnasium[classic-control,other]<1.1.0,>=0.29.1->dqn_tutorial==0.1.dev58+g7a67872) (0.12.1)\n",
            "Requirement already satisfied: fonttools>=4.22.0 in /usr/local/lib/python3.11/dist-packages (from matplotlib>=3.0->gymnasium[classic-control,other]<1.1.0,>=0.29.1->dqn_tutorial==0.1.dev58+g7a67872) (4.56.0)\n",
            "Requirement already satisfied: kiwisolver>=1.3.1 in /usr/local/lib/python3.11/dist-packages (from matplotlib>=3.0->gymnasium[classic-control,other]<1.1.0,>=0.29.1->dqn_tutorial==0.1.dev58+g7a67872) (1.4.8)\n",
            "Requirement already satisfied: packaging>=20.0 in /usr/local/lib/python3.11/dist-packages (from matplotlib>=3.0->gymnasium[classic-control,other]<1.1.0,>=0.29.1->dqn_tutorial==0.1.dev58+g7a67872) (24.2)\n",
            "Requirement already satisfied: pillow>=8 in /usr/local/lib/python3.11/dist-packages (from matplotlib>=3.0->gymnasium[classic-control,other]<1.1.0,>=0.29.1->dqn_tutorial==0.1.dev58+g7a67872) (11.1.0)\n",
            "Requirement already satisfied: pyparsing>=2.3.1 in /usr/local/lib/python3.11/dist-packages (from matplotlib>=3.0->gymnasium[classic-control,other]<1.1.0,>=0.29.1->dqn_tutorial==0.1.dev58+g7a67872) (3.2.1)\n",
            "Requirement already satisfied: python-dateutil>=2.7 in /usr/local/lib/python3.11/dist-packages (from matplotlib>=3.0->gymnasium[classic-control,other]<1.1.0,>=0.29.1->dqn_tutorial==0.1.dev58+g7a67872) (2.8.2)\n",
            "Requirement already satisfied: decorator<5.0,>=4.0.2 in /usr/local/lib/python3.11/dist-packages (from moviepy>=1.0.0->gymnasium[classic-control,other]<1.1.0,>=0.29.1->dqn_tutorial==0.1.dev58+g7a67872) (4.4.2)\n",
            "Requirement already satisfied: imageio<3.0,>=2.5 in /usr/local/lib/python3.11/dist-packages (from moviepy>=1.0.0->gymnasium[classic-control,other]<1.1.0,>=0.29.1->dqn_tutorial==0.1.dev58+g7a67872) (2.37.0)\n",
            "Requirement already satisfied: imageio_ffmpeg>=0.2.0 in /usr/local/lib/python3.11/dist-packages (from moviepy>=1.0.0->gymnasium[classic-control,other]<1.1.0,>=0.29.1->dqn_tutorial==0.1.dev58+g7a67872) (0.6.0)\n",
            "Requirement already satisfied: tqdm<5.0,>=4.11.2 in /usr/local/lib/python3.11/dist-packages (from moviepy>=1.0.0->gymnasium[classic-control,other]<1.1.0,>=0.29.1->dqn_tutorial==0.1.dev58+g7a67872) (4.67.1)\n",
            "Requirement already satisfied: requests<3.0,>=2.8.1 in /usr/local/lib/python3.11/dist-packages (from moviepy>=1.0.0->gymnasium[classic-control,other]<1.1.0,>=0.29.1->dqn_tutorial==0.1.dev58+g7a67872) (2.32.3)\n",
            "Requirement already satisfied: proglog<=1.0.0 in /usr/local/lib/python3.11/dist-packages (from moviepy>=1.0.0->gymnasium[classic-control,other]<1.1.0,>=0.29.1->dqn_tutorial==0.1.dev58+g7a67872) (0.1.10)\n",
            "Requirement already satisfied: MarkupSafe>=2.0 in /usr/local/lib/python3.11/dist-packages (from jinja2->torch>=2.4.0->dqn_tutorial==0.1.dev58+g7a67872) (3.0.2)\n",
            "Requirement already satisfied: six>=1.5 in /usr/local/lib/python3.11/dist-packages (from python-dateutil>=2.7->matplotlib>=3.0->gymnasium[classic-control,other]<1.1.0,>=0.29.1->dqn_tutorial==0.1.dev58+g7a67872) (1.17.0)\n",
            "Requirement already satisfied: charset-normalizer<4,>=2 in /usr/local/lib/python3.11/dist-packages (from requests<3.0,>=2.8.1->moviepy>=1.0.0->gymnasium[classic-control,other]<1.1.0,>=0.29.1->dqn_tutorial==0.1.dev58+g7a67872) (3.4.1)\n",
            "Requirement already satisfied: idna<4,>=2.5 in /usr/local/lib/python3.11/dist-packages (from requests<3.0,>=2.8.1->moviepy>=1.0.0->gymnasium[classic-control,other]<1.1.0,>=0.29.1->dqn_tutorial==0.1.dev58+g7a67872) (3.10)\n",
            "Requirement already satisfied: urllib3<3,>=1.21.1 in /usr/local/lib/python3.11/dist-packages (from requests<3.0,>=2.8.1->moviepy>=1.0.0->gymnasium[classic-control,other]<1.1.0,>=0.29.1->dqn_tutorial==0.1.dev58+g7a67872) (2.3.0)\n",
            "Requirement already satisfied: certifi>=2017.4.17 in /usr/local/lib/python3.11/dist-packages (from requests<3.0,>=2.8.1->moviepy>=1.0.0->gymnasium[classic-control,other]<1.1.0,>=0.29.1->dqn_tutorial==0.1.dev58+g7a67872) (2025.1.31)\n"
          ]
        }
      ],
      "source": [
        "!pip install git+https://github.com/araffin/rlss23-dqn-tutorial/ --upgrade"
      ]
    },
    {
      "cell_type": "code",
      "execution_count": 60,
      "id": "fae52974-fda2-487a-9f64-80bf58125785",
      "metadata": {
        "colab": {
          "base_uri": "https://localhost:8080/"
        },
        "id": "fae52974-fda2-487a-9f64-80bf58125785",
        "outputId": "e412b0a7-6360-4e93-81eb-d41907c1224b"
      },
      "outputs": [
        {
          "output_type": "stream",
          "name": "stdout",
          "text": [
            "Reading package lists... Done\n",
            "Building dependency tree... Done\n",
            "Reading state information... Done\n",
            "ffmpeg is already the newest version (7:4.4.2-0ubuntu0.22.04.1).\n",
            "0 upgraded, 0 newly installed, 0 to remove and 29 not upgraded.\n"
          ]
        }
      ],
      "source": [
        "!apt-get install ffmpeg  # For visualization"
      ]
    },
    {
      "cell_type": "markdown",
      "id": "e2369b55-266c-4dbe-b14d-250ef7386407",
      "metadata": {
        "id": "e2369b55-266c-4dbe-b14d-250ef7386407"
      },
      "source": [
        "## First steps with the Gym interface\n",
        "\n",
        "An environment that follows the [gym interface](https://gymnasium.farama.org/) is quite simple to use.\n",
        "It provides to this user mainly three methods, which have the following signature (for gym versions > 0.26):\n",
        "\n",
        "- `reset()` called at the beginning of an episode, it returns an observation and a dictionary with additional info (defaults to an empty dict)\n",
        "- `step(action)` called to take an action with the environment, it returns the next observation, the immediate reward, whether new state is a terminal state (episode is finished), whether the max number of timesteps is reached (episode is artificially finished), and additional information\n",
        "- (Optional) `render()` which allow to visualize the agent in action. Note that graphical interface does not work on google colab, so we cannot use it directly (we have to rely on `render_mode='rbg_array'` to retrieve an image of the scene).\n",
        "\n",
        "Under the hood, it also contains two useful properties:\n",
        "- `observation_space` which one of the gym spaces (`Discrete`, `Box`, ...) and describe the type and shape of the observation\n",
        "- `action_space` which is also a gym space object that describes the action space, so the type of action that can be taken\n",
        "\n",
        "The best way to learn about [gym spaces](https://gymnasium.farama.org/api/spaces/) is to look at the [source code](https://github.com/Farama-Foundation/Gymnasium/tree/main/gymnasium/spaces), but you need to know at least the main ones:\n",
        "- `gym.spaces.Box`: A (possibly unbounded) box in $R^n$. Specifically, a Box represents the Cartesian product of n closed intervals. Each interval has the form of one of [a, b], (-oo, b], [a, oo), or (-oo, oo). Example: A 1D-Vector or an image observation can be described with the Box space.\n",
        "```python\n",
        "# Example for using image as input:\n",
        "observation_space = spaces.Box(low=0, high=255, shape=(HEIGHT, WIDTH, N_CHANNELS), dtype=np.uint8)\n",
        "```                                       \n",
        "\n",
        "- `gym.spaces.Discrete`: A discrete space in $\\{ 0, 1, \\dots, n-1 \\}$\n",
        "  Example: if you have two actions (\"left\" and \"right\") you can represent your action space using `Discrete(2)`, the first action will be 0 and the second 1."
      ]
    },
    {
      "cell_type": "markdown",
      "id": "af049724-3db9-4dec-a40c-3aa025735f00",
      "metadata": {
        "id": "af049724-3db9-4dec-a40c-3aa025735f00"
      },
      "source": [
        "## CartPole Environment\n",
        "\n",
        "For this example, we will use CartPole environment, a classic control problem.\n",
        "\n",
        "\"A pole is attached by an un-actuated joint to a cart, which moves along a frictionless track. The system is controlled by applying a force of +1 or -1 to the cart. The pendulum starts upright, and the goal is to prevent it from falling over. A reward of +1 is provided for every timestep that the pole remains upright. \"\n",
        "\n",
        "Cartpole environment: [https://gymnasium.farama.org/environments/classic_control/cart_pole/](https://gymnasium.farama.org/environments/classic_control/cart_pole/)\n",
        "\n",
        "![Cartpole](https://cdn-images-1.medium.com/max/1143/1*h4WTQNVIsvMXJTCpXm_TAw.gif)"
      ]
    },
    {
      "cell_type": "code",
      "execution_count": 109,
      "id": "60ec422f-2edd-40df-8da2-c1093e1da38c",
      "metadata": {
        "id": "60ec422f-2edd-40df-8da2-c1093e1da38c"
      },
      "outputs": [],
      "source": [
        "import gymnasium as gym\n",
        "\n",
        "# Instantiate the environment\n",
        "env = gym.make(\"CartPole-v1\")"
      ]
    },
    {
      "cell_type": "code",
      "execution_count": 110,
      "id": "476f88b6-4fe2-45ec-bddd-4d83feb3a86f",
      "metadata": {
        "colab": {
          "base_uri": "https://localhost:8080/"
        },
        "id": "476f88b6-4fe2-45ec-bddd-4d83feb3a86f",
        "outputId": "72e79172-495f-4f55-e3b3-18282fb443e7"
      },
      "outputs": [
        {
          "output_type": "stream",
          "name": "stdout",
          "text": [
            "Observation space: Box([-4.8               -inf -0.41887903        -inf], [4.8               inf 0.41887903        inf], (4,), float32)\n",
            "Shape: (4,)\n",
            "Action space: Discrete(2)\n"
          ]
        }
      ],
      "source": [
        "# Box(4,) means that it is a Vector with 4 components\n",
        "print(\"Observation space:\", env.observation_space)\n",
        "print(\"Shape:\", env.observation_space.shape)\n",
        "# Discrete(2) means that there is two discrete actions\n",
        "print(\"Action space:\", env.action_space)"
      ]
    },
    {
      "cell_type": "code",
      "execution_count": 111,
      "id": "e414990e-2cbd-4f6f-b268-42f16a9b253b",
      "metadata": {
        "id": "e414990e-2cbd-4f6f-b268-42f16a9b253b"
      },
      "outputs": [],
      "source": [
        "# The reset method is called at the beginning of an episode\n",
        "obs, info = env.reset()"
      ]
    },
    {
      "cell_type": "code",
      "execution_count": 112,
      "id": "e89a95c8-d64a-43a3-adee-344891bbd1b7",
      "metadata": {
        "colab": {
          "base_uri": "https://localhost:8080/"
        },
        "id": "e89a95c8-d64a-43a3-adee-344891bbd1b7",
        "outputId": "8fc4884b-fbbe-4c47-9803-3ef47428de7e"
      },
      "outputs": [
        {
          "output_type": "stream",
          "name": "stdout",
          "text": [
            "Sampled action: 1\n"
          ]
        }
      ],
      "source": [
        "# Sample a random action\n",
        "action = env.action_space.sample()\n",
        "print(f\"Sampled action: {action}\")"
      ]
    },
    {
      "cell_type": "code",
      "execution_count": 113,
      "id": "311777a2-9518-496a-b1e8-0eb1af81fb7d",
      "metadata": {
        "id": "311777a2-9518-496a-b1e8-0eb1af81fb7d"
      },
      "outputs": [],
      "source": [
        "# step in the environment\n",
        "obs, reward, terminated, truncated, info = env.step(action)"
      ]
    },
    {
      "cell_type": "code",
      "execution_count": 114,
      "id": "5102a9c8-8407-4f88-b58d-4e3e5a00af3b",
      "metadata": {
        "colab": {
          "base_uri": "https://localhost:8080/"
        },
        "id": "5102a9c8-8407-4f88-b58d-4e3e5a00af3b",
        "outputId": "e3eb099e-f2e9-4640-96b9-b528b4af4c24"
      },
      "outputs": [
        {
          "output_type": "stream",
          "name": "stdout",
          "text": [
            "(4,) 1.0 False False {}\n"
          ]
        }
      ],
      "source": [
        "# Note the obs is a numpy array\n",
        "# info is an empty dict for now but can contain any debugging info\n",
        "# reward is a scalar\n",
        "print(obs.shape, reward, terminated, truncated, info)"
      ]
    },
    {
      "cell_type": "markdown",
      "id": "90fbec50-1da0-4bc4-8b88-79fa38480bfe",
      "metadata": {
        "id": "90fbec50-1da0-4bc4-8b88-79fa38480bfe"
      },
      "source": [
        "### Exercise (10 minutes): write the function to collect data\n",
        "\n",
        "This function collects an offline dataset of transitions that will be used to train a model using the FQI algorithm.\n",
        "\n",
        "See docstring of the function for what is expected as input/output."
      ]
    },
    {
      "cell_type": "code",
      "execution_count": 115,
      "id": "1f1b3ff1-911b-4582-91f7-49420380eda3",
      "metadata": {
        "id": "1f1b3ff1-911b-4582-91f7-49420380eda3"
      },
      "outputs": [],
      "source": [
        "from dataclasses import dataclass\n",
        "\n",
        "import numpy as np\n",
        "from gymnasium import spaces\n",
        "\n",
        "\n",
        "@dataclass\n",
        "class OfflineData:\n",
        "    \"\"\"\n",
        "    A class to store transitions.\n",
        "    \"\"\"\n",
        "\n",
        "    observations: np.ndarray  # same as \"state\" in the theory\n",
        "    next_observations: np.ndarray\n",
        "    actions: np.ndarray\n",
        "    rewards: np.ndarray\n",
        "    terminateds: np.ndarray"
      ]
    },
    {
      "cell_type": "markdown",
      "id": "ac6bdde9-0b87-4449-b09d-de0ba2d7a2ac",
      "metadata": {
        "id": "ac6bdde9-0b87-4449-b09d-de0ba2d7a2ac"
      },
      "source": [
        "**HINT**: Take a look at the slide on Gym API or at the Gymnasium documentation: https://gymnasium.farama.org/"
      ]
    },
    {
      "cell_type": "code",
      "execution_count": 116,
      "id": "f9f753ed-5f5d-4133-ab82-c84b3cfe2eef",
      "metadata": {
        "id": "f9f753ed-5f5d-4133-ab82-c84b3cfe2eef"
      },
      "outputs": [],
      "source": [
        "def collect_data(env_id: str, n_steps: int = 50_000) -> OfflineData:\n",
        "    \"\"\"\n",
        "    Collect transitions using a random agent (sample action randomly).\n",
        "\n",
        "    :param env_id: The name of the environment.\n",
        "    :param n_steps: Number of steps to perform in the env.\n",
        "    :return: The collected transitions.\n",
        "    \"\"\"\n",
        "    # Create the Gym env\n",
        "    env = gym.make(env_id)\n",
        "\n",
        "    assert isinstance(env.observation_space, spaces.Box)\n",
        "    # Numpy arrays (buffers) to collect the data\n",
        "    observations = np.zeros((n_steps, *env.observation_space.shape))\n",
        "    next_observations = np.zeros((n_steps, *env.observation_space.shape))\n",
        "    # Discrete actions\n",
        "    actions = np.zeros((n_steps, 1))\n",
        "    rewards = np.zeros((n_steps,))\n",
        "    terminateds = np.zeros((n_steps,))\n",
        "\n",
        "    # Variable to know if the episode is over (done = terminated or truncated)\n",
        "    done = False\n",
        "\n",
        "    ### YOUR CODE HERE\n",
        "    # You need to collect transitions for `n_steps` using\n",
        "    # a random agent (sample action uniformly).\n",
        "    # Do not forget to reset the environment if the current episode is over\n",
        "    # (done = terminated or truncated)\n",
        "    #\n",
        "    # TODO:\n",
        "    # 1. Sample a random action\n",
        "    # 2. Step in the env using this random action\n",
        "    # 3. Retrieve the new transition data (observation, reward, ...)\n",
        "    #  and update the numpy arrays (buffers)\n",
        "    # 4. Repeat until you collected `n_steps` transitions\n",
        "\n",
        "    # Start the first episode\n",
        "    current_obs, _ = env.reset()\n",
        "\n",
        "    for idx in range(n_steps):\n",
        "\n",
        "        # Sample a random action\n",
        "        action = env.action_space.sample()\n",
        "\n",
        "        # Step in the environment\n",
        "        obs, reward, terminated, truncated, info = env.step(action)\n",
        "\n",
        "        # Store the transition\n",
        "        # Note: we only record true termination (timeouts/truncations are artificial terminations)\n",
        "        observations[idx, :] = current_obs\n",
        "        next_observations[idx, :] = obs\n",
        "        actions[idx, :] = action\n",
        "        rewards[idx] = reward\n",
        "        terminateds[idx] = terminated or truncated\n",
        "\n",
        "        # Update current observation\n",
        "        current_obs = obs\n",
        "\n",
        "        # Check if the episode is over\n",
        "        if terminated or truncated:\n",
        "          current_obs, _ = env.reset()\n",
        "\n",
        "        # Don't forget to reset the env at the end of an episode\n",
        "\n",
        "\n",
        "    ### END OF YOUR CODE\n",
        "\n",
        "    return OfflineData(\n",
        "        observations,\n",
        "        next_observations,\n",
        "        actions,\n",
        "        rewards,\n",
        "        terminateds,\n",
        "    )"
      ]
    },
    {
      "cell_type": "markdown",
      "id": "dbe5d4b3-d3d6-4f82-9337-a8566c1fc707",
      "metadata": {
        "id": "dbe5d4b3-d3d6-4f82-9337-a8566c1fc707"
      },
      "source": [
        "Let's try the collect data method:"
      ]
    },
    {
      "cell_type": "code",
      "execution_count": 117,
      "id": "f499a940-a35f-4b8c-86bb-94231c41a87e",
      "metadata": {
        "id": "f499a940-a35f-4b8c-86bb-94231c41a87e"
      },
      "outputs": [],
      "source": [
        "env_id = \"CartPole-v1\"\n",
        "n_steps = 50_000\n",
        "# Collect transitions for n_steps\n",
        "data = collect_data(env_id=env_id, n_steps=n_steps)"
      ]
    },
    {
      "cell_type": "code",
      "execution_count": 118,
      "id": "8ae0713b-63f3-40f0-8471-f3f7e3c53f88",
      "metadata": {
        "id": "8ae0713b-63f3-40f0-8471-f3f7e3c53f88"
      },
      "outputs": [],
      "source": [
        "# Check the length of the collected data\n",
        "assert len(data.observations) == n_steps\n",
        "assert len(data.actions) == n_steps\n",
        "# Check that there are multiple episodes in the data\n",
        "assert not np.all(data.terminateds)\n",
        "assert np.any(data.terminateds)\n",
        "# Check the shape of the collected data\n",
        "if env_id == \"CartPole-v1\":\n",
        "    assert data.observations.shape == (n_steps, 4)\n",
        "    assert data.next_observations.shape == (n_steps, 4)\n",
        "assert data.actions.shape == (n_steps, 1)\n",
        "assert data.rewards.shape == (n_steps,)"
      ]
    },
    {
      "cell_type": "code",
      "execution_count": 119,
      "id": "f815ff42-3c8e-4ab5-835f-70438171751b",
      "metadata": {
        "colab": {
          "base_uri": "https://localhost:8080/"
        },
        "id": "f815ff42-3c8e-4ab5-835f-70438171751b",
        "outputId": "af83393d-ddba-4eee-b9be-6f46d071c2ab"
      },
      "outputs": [
        {
          "output_type": "stream",
          "name": "stdout",
          "text": [
            "Saving to ../data/CartPole-v1_data.npz\n"
          ]
        }
      ],
      "source": [
        "from pathlib import Path\n",
        "\n",
        "from dqn_tutorial.fqi import save_data\n",
        "\n",
        "output_filename = Path(\"../data\") / f\"{env_id}_data\"\n",
        "# Create folder if it doesn't exist\n",
        "output_filename.parent.mkdir(parents=True, exist_ok=True)\n",
        "\n",
        "# Save collected data using numpy\n",
        "save_data(data, output_filename)"
      ]
    },
    {
      "cell_type": "markdown",
      "id": "2ff52b1a-6eb1-4284-b25f-8d59ab005ed5",
      "metadata": {
        "id": "2ff52b1a-6eb1-4284-b25f-8d59ab005ed5"
      },
      "source": [
        "## Fitted Q Iteration (FQI) Algorithm\n",
        "\n",
        "Fitted Q Iteration (FQI) is an algorithm that extends q-learning to continuous state space using function estimators.\n",
        "\n",
        "It iteratively approximates the q-values for a given dataset of transitions (state, action, reward, next_state) by iteratively solving a regression problem.\n",
        "\n",
        "Compared to later algorithms like DQN, FQI uses the whole dataset at every iteration (working on the whole batch instead of using minibatches).\n",
        "\n",
        "\n",
        "<div>\n",
        "    <img src=\"https://araffin.github.io/slides/dqn-tutorial/images/fqi/tabular_limit_2.png\" width=\"500\"/>\n",
        "</div>"
      ]
    },
    {
      "cell_type": "code",
      "execution_count": 120,
      "id": "045b251a-9ace-450b-afa9-7ee4128cdef6",
      "metadata": {
        "id": "045b251a-9ace-450b-afa9-7ee4128cdef6"
      },
      "outputs": [],
      "source": [
        "from functools import partial\n",
        "from pathlib import Path\n",
        "from typing import Optional\n",
        "\n",
        "import gymnasium as gym\n",
        "import numpy as np\n",
        "from gymnasium import spaces\n",
        "from sklearn import tree\n",
        "from sklearn.base import RegressorMixin\n",
        "from sklearn.exceptions import NotFittedError\n",
        "from sklearn.ensemble import GradientBoostingRegressor, RandomForestRegressor\n",
        "from sklearn.linear_model import LinearRegression\n",
        "from sklearn.preprocessing import PolynomialFeatures\n",
        "from sklearn.neighbors import KNeighborsRegressor"
      ]
    },
    {
      "cell_type": "markdown",
      "id": "239ad0de-bec9-4918-a691-4322d062c45a",
      "metadata": {
        "id": "239ad0de-bec9-4918-a691-4322d062c45a"
      },
      "source": [
        "### Choosing a Model\n",
        "\n",
        "With FQI, you can use any regression model.\n",
        "\n",
        "Here we are choosing a [k-nearest neighbors regressor](https://scikit-learn.org/stable/modules/neighbors.html#regression), but one could choose a linear model, a decision tree, a neural network, ..."
      ]
    },
    {
      "cell_type": "code",
      "execution_count": 121,
      "id": "1d8d873e-bc40-4a35-b98b-4fe9ce916aab",
      "metadata": {
        "id": "1d8d873e-bc40-4a35-b98b-4fe9ce916aab"
      },
      "outputs": [],
      "source": [
        "# First choose the regressor\n",
        "model_class = partial(KNeighborsRegressor, n_neighbors=30)  # LinearRegression, GradientBoostingRegressor"
      ]
    },
    {
      "cell_type": "markdown",
      "id": "be7a24b4-a416-4607-af3a-9dfdbc203fc1",
      "metadata": {
        "id": "be7a24b4-a416-4607-af3a-9dfdbc203fc1"
      },
      "source": [
        "### Loading offline dataset\n",
        "\n",
        "The offline dataset contains the transitions collected using a random agent."
      ]
    },
    {
      "cell_type": "code",
      "execution_count": 122,
      "id": "1fe29bd2-ea95-4778-b466-537a088615b0",
      "metadata": {
        "id": "1fe29bd2-ea95-4778-b466-537a088615b0"
      },
      "outputs": [],
      "source": [
        "from dqn_tutorial.fqi import load_data\n",
        "\n",
        "env_id = \"CartPole-v1\"\n",
        "output_filename = Path(\"../data\") / f\"{env_id}_data.npz\"\n",
        "render_mode = \"rgb_array\"\n",
        "\n",
        "# Create test environment\n",
        "env = gym.make(env_id, render_mode=render_mode)\n",
        "\n",
        "# Load saved transitions\n",
        "data = load_data(output_filename)"
      ]
    },
    {
      "cell_type": "markdown",
      "id": "a7c0f461-9c04-48f2-ad57-21b555a7c041",
      "metadata": {
        "id": "a7c0f461-9c04-48f2-ad57-21b555a7c041"
      },
      "source": [
        "### First Iteration of FQI\n",
        "\n",
        "For $n = 0$, the initial training set is defined as:\n",
        "\n",
        "- $x = (s_t, a_t)$\n",
        "- $y = r_t$\n",
        "\n",
        "We fit a regression model $f_\\theta(x) = y$ to obtain $ Q^{n=0}_\\theta(s, a) $"
      ]
    },
    {
      "cell_type": "code",
      "execution_count": 123,
      "id": "26940b3e-4c9a-4632-a198-2e0ce7b12b88",
      "metadata": {
        "id": "26940b3e-4c9a-4632-a198-2e0ce7b12b88"
      },
      "outputs": [],
      "source": [
        "# First iteration:\n",
        "# The target q-value is the reward obtained\n",
        "targets = data.rewards.copy()\n",
        "# Create input for current observations and actions\n",
        "# Concatenate the observations and actions\n",
        "# so we can predict qf(s_t, a_t)\n",
        "current_obs_input = np.concatenate((data.observations, data.actions), axis=1)\n",
        "# Fit the estimator for the current target\n",
        "model = model_class().fit(current_obs_input, targets)"
      ]
    },
    {
      "cell_type": "markdown",
      "id": "5bf9544c-87f4-4872-9ae9-eef49c3a040a",
      "metadata": {
        "id": "5bf9544c-87f4-4872-9ae9-eef49c3a040a"
      },
      "source": [
        "### 1. Exercise (10 minutes): write the function to predict Q-Values\n",
        "\n",
        "\n",
        "<div>\n",
        "    <img src=\"https://araffin.github.io/slides/dqn-tutorial/images/fqi/q_value_fqi.png\" width=\"300\"/>\n",
        "</div>\n",
        "\n",
        "**HINT**: Check the first iteration of FQI to know how to create the input to the regression model\n",
        "\n",
        "\n",
        "**HINT**: For efficiency, we are not working with one transition at a time but on a batch of transitions/observations. The resulting `q_values` are therefore a matrix of shape `(batch_size, n_actions)` where `batch_size` is the size of the batch of observations (aka number of observations used at once) and `n_actions` is the number of available actions (`n_actions=2` for CartPole, as we can only go left or right)\n",
        "\n",
        "Below is a diagram explaining how the predicted `q_values` will be stored.\n",
        "\n",
        "Row-wise, we get the q-values estimates for all possible actions but for one single observation (state):\n",
        "\n",
        "<div>\n",
        "    <img src=\"https://araffin.github.io/slides/dqn-tutorial/images/sklearn/q_value_batch.png\" width=\"500\"/>\n",
        "    <br>\n",
        "</div>\n",
        "\n",
        "Column-wise, we get the q-values estimates for a given action but for a batch of observations (states):\n",
        "<div>\n",
        "    <img src=\"https://araffin.github.io/slides/dqn-tutorial/images/sklearn/q_value_batch_2.png\" width=\"400\"/>\n",
        "</div>"
      ]
    },
    {
      "cell_type": "code",
      "execution_count": 124,
      "id": "1d1c52d1-4336-4caa-9d91-cfb641e7972a",
      "metadata": {
        "id": "1d1c52d1-4336-4caa-9d91-cfb641e7972a"
      },
      "outputs": [],
      "source": [
        "def get_q_values(\n",
        "    model: RegressorMixin,\n",
        "    obs: np.ndarray,\n",
        "    n_actions: int,\n",
        ") -> np.ndarray:\n",
        "    \"\"\"\n",
        "    Retrieve the q-values for a set of observations(=states in the theory).\n",
        "    qf(s_t, action) for all possible actions.\n",
        "\n",
        "    :param model: Q-value estimator\n",
        "    :param obs: A batch of observations\n",
        "    :param n_actions: Number of discrete actions.\n",
        "    :return: The predicted q-values for the given observations\n",
        "        (batch_size, n_actions)\n",
        "    \"\"\"\n",
        "    batch_size = len(obs)\n",
        "    q_values = np.zeros((batch_size, n_actions))\n",
        "\n",
        "    ### YOUR CODE HERE\n",
        "    # TODO: for every possible actions a:\n",
        "    # 1. Create the regression model input $(s, a)$ for the action a\n",
        "    # and states s (here a batch of observations)\n",
        "    # 2. Predict the q-values for the batch of states\n",
        "    # 3. Update q-values array for the current action a\n",
        "\n",
        "    # Predict q-value for each action\n",
        "    for action_idx in range(n_actions):\n",
        "        # Note: we should do one hot encoding if not using CartPole (n_actions > 2)\n",
        "        # Create a vector of size (batch_size, 1) for the current action\n",
        "        # This allows to do batch prediction for all the provided observations\n",
        "        actions = action_idx * np.ones((batch_size, 1))\n",
        "        # Concatenate the observations and the actions to obtain\n",
        "        # the input to the q-value estimator\n",
        "        # you can use `np.concatenate()`\n",
        "\n",
        "        obs_input = np.concatenate((obs, actions), axis = 1)\n",
        "        # Predict q-values for the given observation/action combination\n",
        "        # shape: (batch_size, 1)\n",
        "        # with a scikit-learn model, you can `model.predict()`\n",
        "        q_values[:,action_idx] = model.predict(obs_input)\n",
        "        # Update the q-values array for the current action\n",
        "        # q_values is of shape (batch_size, n_actions)\n",
        "\n",
        "    ### END OF YOUR CODE\n",
        "\n",
        "    return q_values"
      ]
    },
    {
      "cell_type": "markdown",
      "id": "353de669-1744-43be-a3dc-5310d23c72a4",
      "metadata": {
        "id": "353de669-1744-43be-a3dc-5310d23c72a4"
      },
      "source": [
        "Let's test it with a subset of the collected data:"
      ]
    },
    {
      "cell_type": "code",
      "execution_count": 101,
      "id": "6910968b-16db-41fe-a6d9-ff8c65322c85",
      "metadata": {
        "id": "6910968b-16db-41fe-a6d9-ff8c65322c85"
      },
      "outputs": [],
      "source": [
        "n_observations = 2\n",
        "n_actions = int(env.action_space.n)\n",
        "\n",
        "q_values = get_q_values(model, data.observations[:n_observations], n_actions)\n",
        "\n",
        "assert q_values.shape == (n_observations, n_actions)"
      ]
    },
    {
      "cell_type": "markdown",
      "id": "a883ff38-48e9-4f7c-8692-33a9d1b325d2",
      "metadata": {
        "id": "a883ff38-48e9-4f7c-8692-33a9d1b325d2"
      },
      "source": [
        "### 2. Exercise (8 minutes): write the function to evaluate a model\n",
        "\n",
        "A greedy policy $\\pi(s)$ can be defined using the q-value:\n",
        "\n",
        "$\\pi(s) = argmax_{a \\in A} Q(s, a)$.\n",
        "\n",
        "It is the policy that takes the action with the highest q-value for a given state."
      ]
    },
    {
      "cell_type": "code",
      "execution_count": 125,
      "id": "2b1f4b18-a811-43fa-925d-20ad2f4d52d7",
      "metadata": {
        "id": "2b1f4b18-a811-43fa-925d-20ad2f4d52d7"
      },
      "outputs": [],
      "source": [
        "import os\n",
        "\n",
        "from gymnasium.wrappers import RecordVideo\n",
        "\n",
        "\n",
        "def evaluate(\n",
        "    model: RegressorMixin,\n",
        "    env: gym.Env,\n",
        "    n_eval_episodes: int = 10,\n",
        "    video_name: Optional[str] = None,\n",
        ") -> None:\n",
        "    episode_returns, episode_reward = [], 0.0\n",
        "    total_episodes = 0\n",
        "    done = False\n",
        "\n",
        "    # Setup video recorder\n",
        "    if video_name is not None and env.render_mode == \"rgb_array\":\n",
        "        os.makedirs(\"../logs/videos/\", exist_ok=True)\n",
        "\n",
        "        # New gym recorder always wants to cut video into episodes,\n",
        "        # set video length big enough but not to inf (will cut into episodes)\n",
        "        env = RecordVideo(env, \"../logs/videos\", step_trigger=lambda _: False, video_length=100_000)\n",
        "        env.start_recording(video_name)\n",
        "\n",
        "    current_obs, _ = env.reset()\n",
        "    # Number of discrete actions\n",
        "    n_actions = int(env.action_space.n)\n",
        "    assert isinstance(env.action_space, spaces.Discrete), \"FQI only support discrete actions\"\n",
        "\n",
        "    while total_episodes < n_eval_episodes:\n",
        "        ### YOUR CODE HERE\n",
        "\n",
        "        # Retrieve the q-values for the current observation\n",
        "        # you need to re-use `get_q_values()`\n",
        "        # Note: you need to add a batch dimension to the observation\n",
        "        # you can use `current_obs[np.newaxis, ...]` for that: (obs_dim,) -> (batch_size=1, obs_dim)\n",
        "\n",
        "\n",
        "        q_values = get_q_values(model,current_obs[np.newaxis, ...],n_actions)\n",
        "        # Select the action that maximizes the q-value for each state\n",
        "        # Don't forget to remove the batch dimension, you can use `.item()` for that\n",
        "        action = int(np.argmax(q_values, axis = 1).item())\n",
        "\n",
        "        # Send the action to the env and update current observation\n",
        "        obs, reward, terminated, truncated, info = env.step(action)\n",
        "        current_obs = obs\n",
        "\n",
        "        ### END OF YOUR CODE\n",
        "\n",
        "        episode_reward += float(reward)\n",
        "\n",
        "        done = terminated or truncated\n",
        "        if done:\n",
        "            episode_returns.append(episode_reward)\n",
        "            episode_reward = 0.0\n",
        "            total_episodes += 1\n",
        "            current_obs, _ = env.reset()\n",
        "\n",
        "    if isinstance(env, RecordVideo):\n",
        "        print(f\"Saving video to ../logs/videos/{video_name}\")\n",
        "        env.close()\n",
        "\n",
        "    print(f\"Total reward = {np.mean(episode_returns):.2f} +/- {np.std(episode_returns):.2f}\")"
      ]
    },
    {
      "cell_type": "code",
      "execution_count": 126,
      "id": "23e326d9-1fa7-4efd-a841-b1d9e5ef9484",
      "metadata": {
        "colab": {
          "base_uri": "https://localhost:8080/"
        },
        "id": "23e326d9-1fa7-4efd-a841-b1d9e5ef9484",
        "outputId": "3fb75096-4433-4acc-b510-97922c3c5bbe"
      },
      "outputs": [
        {
          "output_type": "stream",
          "name": "stdout",
          "text": [
            "Total reward = 9.10 +/- 1.04\n"
          ]
        }
      ],
      "source": [
        "# Evaluate the first iteration\n",
        "evaluate(model, env, n_eval_episodes=10)"
      ]
    },
    {
      "cell_type": "markdown",
      "id": "eced782e-653d-4041-8473-2c39d12ba9a9",
      "metadata": {
        "id": "eced782e-653d-4041-8473-2c39d12ba9a9"
      },
      "source": [
        "### 3. Exercise (20 minutes): the Fitted Q Iterations\n",
        "\n",
        "1. Create the training set based on the previous iteration $ Q^{n-1}_\\theta(s, a) $ and the transitions:\n",
        "- input: $x = (s_t, a_t)$\n",
        "- if $s_{t+1}$ is non-terminal: $y = r_t + \\gamma \\cdot \\max_{a' \\in A}(Q^{n-1}_\\theta(s_{t+1}, a'))$\n",
        "- if $s_{t+1}$ is terminal, do not bootstrap: $y = r_t$\n",
        "\n",
        "2. Fit a model $f_\\theta$ using a regression algorithm to obtain $ Q^{n}_\\theta(s, a)$\n",
        "\n",
        "\\begin{aligned}\n",
        " f_\\theta(x) = y\n",
        "\\end{aligned}\n",
        "\n",
        "4. Repeat, $n = n + 1$"
      ]
    },
    {
      "cell_type": "markdown",
      "id": "5d824b98-6360-4d4e-a3e2-584c0c36665e",
      "metadata": {
        "id": "5d824b98-6360-4d4e-a3e2-584c0c36665e"
      },
      "source": [
        "First, let's define some constants:"
      ]
    },
    {
      "cell_type": "code",
      "execution_count": 127,
      "id": "7cbff0d8-eab0-4cec-847e-23bc1c509359",
      "metadata": {
        "id": "7cbff0d8-eab0-4cec-847e-23bc1c509359"
      },
      "outputs": [],
      "source": [
        "# Max number of iterations\n",
        "n_iterations = 20\n",
        "# How often do we evaluate the learned model\n",
        "eval_freq = 2\n",
        "# How many episodes to evaluate every eval-freq\n",
        "n_eval_episodes = 10\n",
        "# discount factor\n",
        "gamma = 0.99\n",
        "# Number of discrete actions\n",
        "n_actions = int(env.action_space.n)"
      ]
    },
    {
      "cell_type": "markdown",
      "id": "18d564da-7170-4bf8-8259-f19d0b12bcbd",
      "metadata": {
        "id": "18d564da-7170-4bf8-8259-f19d0b12bcbd"
      },
      "source": [
        "Then do several iteration of the FQI algorithm\n",
        "\n",
        "**HINT**: For that exercise, you should take a look at the first iteration of FQI.\n",
        "\n",
        "**HINT**: The`data` variable (containing the offline dataset) is an instance of `OfflineData`:\n",
        "\n",
        "```python\n",
        "@dataclass\n",
        "class OfflineData:\n",
        "    \"\"\"\n",
        "    A class to store transitions.\n",
        "    \"\"\"\n",
        "\n",
        "    observations: np.ndarray  # same as \"state\" in the theory\n",
        "    next_observations: np.ndarray\n",
        "    actions: np.ndarray\n",
        "    rewards: np.ndarray\n",
        "    terminateds: np.ndarray\n",
        "```"
      ]
    },
    {
      "cell_type": "code",
      "execution_count": 128,
      "id": "45dbbc13-5332-4f2b-8cfe-0b7d5464e853",
      "metadata": {
        "colab": {
          "base_uri": "https://localhost:8080/"
        },
        "id": "45dbbc13-5332-4f2b-8cfe-0b7d5464e853",
        "outputId": "2a033e44-0a95-46bf-8098-89dd2cd69b80"
      },
      "outputs": [
        {
          "output_type": "stream",
          "name": "stdout",
          "text": [
            "<class 'dqn_tutorial.fqi.collect_data.OfflineData'>\n",
            "(50000, 4)\n"
          ]
        }
      ],
      "source": [
        "# Load saved transitions\n",
        "data = load_data(output_filename)\n",
        "\n",
        "print(type(data))\n",
        "print(data.observations.shape)"
      ]
    },
    {
      "cell_type": "markdown",
      "id": "acb8ef52-67c8-4290-b679-67b40025caed",
      "metadata": {
        "id": "acb8ef52-67c8-4290-b679-67b40025caed"
      },
      "source": [
        "**HINT**: As for the first exercise, we are working here with a batch of data. Thanks to numpy, you can efficiently compute the max over a batch:\n",
        "\n",
        "<div>\n",
        "    <img src=\"https://araffin.github.io/slides/dqn-tutorial/images/sklearn/q_values_max.png\" width=\"500\"/>\n",
        "</div>\n",
        "\n",
        "**HINT**: Using masking, you can elegantly handle the two cases for the regression target. The value of $y$ depends on whether the episode is terminated or not (in one case we bootstrap using the q-value, in the other case, we do not bootstrap and use the terminal reward instead).\n",
        "\n",
        "Visually, masking is an element-wise operation:\n",
        "\n",
        "<div>\n",
        "    <img src=\"https://araffin.github.io/slides/dqn-tutorial/images/sklearn/masking.png\" width=\"500\"/>\n",
        "</div>\n",
        "\n"
      ]
    },
    {
      "cell_type": "code",
      "execution_count": 129,
      "id": "21c99207-4a80-4263-8b13-1818f65632e1",
      "metadata": {
        "colab": {
          "base_uri": "https://localhost:8080/"
        },
        "id": "21c99207-4a80-4263-8b13-1818f65632e1",
        "outputId": "311b04d9-bc66-4fdb-a56e-79056a5dc570"
      },
      "outputs": [
        {
          "output_type": "stream",
          "name": "stdout",
          "text": [
            "Iter 2\n",
            "Score: 0.73\n",
            "Total reward = 61.40 +/- 65.88\n",
            "Iter 4\n",
            "Score: 0.87\n",
            "Total reward = 234.00 +/- 45.53\n",
            "Iter 6\n",
            "Score: 0.91\n",
            "Total reward = 201.80 +/- 33.04\n",
            "Iter 8\n",
            "Score: 0.92\n",
            "Total reward = 192.40 +/- 18.77\n",
            "Iter 10\n",
            "Score: 0.93\n",
            "Total reward = 224.70 +/- 44.50\n",
            "Iter 12\n",
            "Score: 0.93\n",
            "Total reward = 206.80 +/- 44.60\n",
            "Iter 14\n",
            "Score: 0.94\n",
            "Total reward = 283.30 +/- 89.65\n",
            "Iter 16\n",
            "Score: 0.94\n",
            "Total reward = 305.90 +/- 91.70\n",
            "Iter 18\n",
            "Score: 0.94\n",
            "Total reward = 390.50 +/- 96.16\n",
            "Iter 20\n",
            "Score: 0.94\n",
            "Total reward = 397.50 +/- 95.73\n"
          ]
        }
      ],
      "source": [
        "for iter_idx in range(n_iterations):\n",
        "    ### YOUR CODE HERE\n",
        "    # TODO:\n",
        "    # 1. Compute the q values for the next states using\n",
        "    # the previous regression model\n",
        "    # 2. Keep only the next q values that correspond\n",
        "    # to the greedy-policy\n",
        "    # 3. Construct the regression target (TD(0) target)\n",
        "    # 4. Fit a new regression model with this new target\n",
        "\n",
        "    # First, retrieve the q-values for the next states (data.next_observations)\n",
        "    # for all possible actions\n",
        "    # you need to use `get_q_values()` method\n",
        "\n",
        "    q_values_next = get_q_values(model, data.next_observations, n_actions)\n",
        "\n",
        "    # Follow-greedy policy: use the action with the highest q-value\n",
        "    # to compute the next q-values\n",
        "    max_q_values_next = np.max(q_values_next, axis=1)\n",
        "\n",
        "    # The new target is the reward + what our agent expect to get\n",
        "    # if it follows a greedy policy (follow action with the highest q-value)\n",
        "    # Reminder: you should not bootstrap if terminated=True\n",
        "    # (you can mask the next q values for that using `np.logical_not`)\n",
        "    targets = data.rewards + gamma * max_q_values_next * np.logical_not(data.terminateds)\n",
        "\n",
        "\n",
        "    # Update the q-value estimate for the current (observations, actions) pair\n",
        "    # (current_obs_input)\n",
        "    # with the current target,\n",
        "    # i.e., fit a regression model using the new target\n",
        "    # Note: you can use `model_class()` to instantiate a new model\n",
        "    model = model_class().fit(current_obs_input, targets)\n",
        "\n",
        "\n",
        "    ### END OF YOUR CODE\n",
        "\n",
        "    if (iter_idx + 1) % eval_freq == 0:\n",
        "        print(f\"Iter {iter_idx + 1}\")\n",
        "        print(f\"Score: {model.score(current_obs_input, targets):.2f}\")\n",
        "        evaluate(model, env, n_eval_episodes)"
      ]
    },
    {
      "cell_type": "markdown",
      "id": "e3477740-bfe4-4e0b-8a5d-cd0206786c8b",
      "metadata": {
        "id": "e3477740-bfe4-4e0b-8a5d-cd0206786c8b"
      },
      "source": [
        "### Record a video of the trained agent"
      ]
    },
    {
      "cell_type": "code",
      "execution_count": 132,
      "id": "da8d90cc-2d77-4682-a97c-a3dacd081f38",
      "metadata": {
        "colab": {
          "base_uri": "https://localhost:8080/"
        },
        "id": "da8d90cc-2d77-4682-a97c-a3dacd081f38",
        "outputId": "0a3cd815-3edc-411a-8fc2-99780b272583"
      },
      "outputs": [
        {
          "output_type": "stream",
          "name": "stderr",
          "text": [
            "/usr/local/lib/python3.11/dist-packages/gymnasium/wrappers/rendering.py:283: UserWarning: \u001b[33mWARN: Overwriting existing videos at /logs/videos folder (try specifying a different `video_folder` for the `RecordVideo` wrapper if this is not desired)\u001b[0m\n",
            "  logger.warn(\n"
          ]
        },
        {
          "output_type": "stream",
          "name": "stdout",
          "text": [
            "Saving video to ../logs/videos/FQI_CartPole-v1\n",
            "Total reward = 417.00 +/- 75.67\n"
          ]
        }
      ],
      "source": [
        "eval_env = gym.make(env_id, render_mode=\"rgb_array\")\n",
        "video_name = f\"FQI_{env_id}\"\n",
        "n_eval_episodes = 3\n",
        "\n",
        "evaluate(model, eval_env, n_eval_episodes, video_name=video_name)"
      ]
    },
    {
      "cell_type": "code",
      "execution_count": 133,
      "id": "bfc66910-de41-4622-9811-96addf8ba8d3",
      "metadata": {
        "colab": {
          "base_uri": "https://localhost:8080/",
          "height": 439
        },
        "id": "bfc66910-de41-4622-9811-96addf8ba8d3",
        "outputId": "2f12db81-44e7-4581-f6db-d74a88fe8632"
      },
      "outputs": [
        {
          "output_type": "stream",
          "name": "stdout",
          "text": [
            "FQI agent on CartPole-v1 after 20 iterations:\n"
          ]
        },
        {
          "output_type": "display_data",
          "data": {
            "text/plain": [
              "<IPython.core.display.HTML object>"
            ],
            "text/html": [
              "<video alt=\"../logs/videos/FQI_CartPole-v1.mp4\" autoplay\n",
              "                    loop controls style=\"height: 400px;\">\n",
              "                    <source src=\"data:video/mp4;base64,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\" type=\"video/mp4\" />\n",
              "                </video>"
            ]
          },
          "metadata": {}
        }
      ],
      "source": [
        "from dqn_tutorial.notebook_utils import show_videos\n",
        "\n",
        "print(f\"FQI agent on {env_id} after {n_iterations} iterations:\")\n",
        "show_videos(\"../logs/videos/\", prefix=video_name)"
      ]
    },
    {
      "cell_type": "markdown",
      "id": "69a60230-6477-4318-8d60-10f6eada6064",
      "metadata": {
        "id": "69a60230-6477-4318-8d60-10f6eada6064"
      },
      "source": [
        "### Going further\n",
        "\n",
        "- play with different models, and with their hyperparameters\n",
        "- play with the discount factor\n",
        "- play with the number of data collected/used\n",
        "- combine data from random policy with data from trained model"
      ]
    },
    {
      "cell_type": "markdown",
      "id": "40b8a44f-d48c-4a9d-8ed4-968c1ffb9948",
      "metadata": {
        "id": "40b8a44f-d48c-4a9d-8ed4-968c1ffb9948"
      },
      "source": [
        "## Conclusion\n",
        "\n",
        "What we have seen in this notebook:\n",
        "- collecting data using a random agent in a gym environment\n",
        "- predicting q-values using a regression model\n",
        "- the fitted q-iteration (FQI) algorithm to learn from an offline dataset"
      ]
    },
    {
      "cell_type": "code",
      "execution_count": null,
      "id": "761010b8-86dd-4958-b097-2912606b4493",
      "metadata": {
        "id": "761010b8-86dd-4958-b097-2912606b4493"
      },
      "outputs": [],
      "source": []
    }
  ],
  "metadata": {
    "kernelspec": {
      "display_name": "Python 3 (ipykernel)",
      "language": "python",
      "name": "python3"
    },
    "language_info": {
      "codemirror_mode": {
        "name": "ipython",
        "version": 3
      },
      "file_extension": ".py",
      "mimetype": "text/x-python",
      "name": "python",
      "nbconvert_exporter": "python",
      "pygments_lexer": "ipython3",
      "version": "3.10.9"
    },
    "colab": {
      "provenance": []
    }
  },
  "nbformat": 4,
  "nbformat_minor": 5
}